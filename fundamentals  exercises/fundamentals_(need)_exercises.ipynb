{
 "cells": [
  {
   "cell_type": "markdown",
   "id": "123456",
   "metadata": {},
   "source": [
    "<div style=\"text-align:left;font-size:2em\"><span style=\"font-weight:bolder;font-size:1.25em\">SP2273 | Learning Portfolio</span><br><br><span style=\"font-weight:bold;color:darkred\">Fundamentals (Need) Exercises</span></div>"
   ]
  },
  {
   "cell_type": "markdown",
   "id": "03a4d2f0",
   "metadata": {},
   "source": [
    "# Ex 1\n",
    "There is a need to be concise about how we type. For example, print and Print are different, and the latter will not work. Likewise, for a code,\n",
    "age=10\n",
    " print(age)\n",
    " \n",
    "will not work due to the extra spacing.\n",
    "\n",
    "We can use if/else statement to get boolean values back. The : shows a block of code.\n",
    "\n",
    "Python uses () for functions, while using [] for list and {} for dictionary.\n",
    "\n",
    "We can import modules inside like math and numpy.\n",
    "\n",
    "\n",
    "# Editted\n",
    "*print() is a function. Function does a specific task.*\n",
    "*Python is interpreted line by line. If there is an error in line 1 out of 10, it will prompt the error in line 1 only.*\n",
    "\n",
    "*we can use # for comments*\n",
    "\n",
    "*IMPT = and == are different. = Is to give a value to a variable. == is to check if the value is true(boolean).*\n",
    "\n",
    "*'word' and word are different. Former is an English work. Latter is a variable that can hold values.*\n",
    "\n",
    "*The . signifies the ownership. For eg, we cannot just find square root of 4 as it is not an inbuilt function. So we must import a module like math and use the code as math.sqrt(4).*"
   ]
  },
  {
   "cell_type": "code",
   "execution_count": 7,
   "id": "ade9f01c",
   "metadata": {},
   "outputs": [
    {
     "name": "stdout",
     "output_type": "stream",
     "text": [
      "3 4 5.0\n"
     ]
    }
   ],
   "source": [
    "# Ex 2\n",
    "import numpy as np\n",
    "x, y = 3, 4\n",
    "z = np.sqrt(x**2 + y**2)\n",
    "print(x, y, z)"
   ]
  },
  {
   "cell_type": "markdown",
   "id": "809427fc",
   "metadata": {},
   "source": [
    "|     Term     | Description                                                                   |\n",
    "|:------------:|-------------------------------------------------------------------------------|\n",
    "|   Function   | Carry out a dedicated task                                                    |\n",
    "|   Arguments  | The code that we typed. For example, in print(\"hello\"), hello is the argument |\n",
    "|   Comments   | Use of #. Not read as a code. Describes the code                              |\n",
    "| Indentations | Spacing and tab that shows a block of code. Used in if/else statements        |\n",
    "| Packages     | Modules downloaded from the Python library that helps us, eg the math mod     |\n",
    "| .            | Give ownership of the code to a particular source, eg math.sqrt               |\n",
    "| :            | Start of a block of code. Used in if/else                                     |\n",
    "| []           | List of elements                                                              |\n",
    "| [[[]]]       | Grouping of elements together in a list. EG [[1,2],[3,4]]                     |\n",
    "| {}           | Used in dictionary                                                            |"
   ]
  },
  {
   "cell_type": "code",
   "execution_count": 8,
   "id": "6667aa65",
   "metadata": {},
   "outputs": [
    {
     "data": {
      "text/plain": [
       "2.5"
      ]
     },
     "execution_count": 8,
     "metadata": {},
     "output_type": "execute_result"
    }
   ],
   "source": [
    "5/2\n"
   ]
  },
  {
   "cell_type": "code",
   "execution_count": 9,
   "id": "60203c12",
   "metadata": {},
   "outputs": [
    {
     "data": {
      "text/plain": [
       "2"
      ]
     },
     "execution_count": 9,
     "metadata": {},
     "output_type": "execute_result"
    }
   ],
   "source": [
    "5//2"
   ]
  },
  {
   "cell_type": "code",
   "execution_count": 10,
   "id": "1a3f03d6",
   "metadata": {},
   "outputs": [
    {
     "data": {
      "text/plain": [
       "1"
      ]
     },
     "execution_count": 10,
     "metadata": {},
     "output_type": "execute_result"
    }
   ],
   "source": [
    "5%2"
   ]
  },
  {
   "cell_type": "markdown",
   "id": "5a647fa3",
   "metadata": {},
   "source": [
    "5/2 gives the exact value.\n",
    "5//2 is a floor division that gives the rounded down value.\n",
    "5%2 gives the remainder. Useful for if/else code that requires us to sieve out even/odd number in further chapters."
   ]
  },
  {
   "cell_type": "code",
   "execution_count": 1,
   "id": "db7ede70",
   "metadata": {},
   "outputs": [
    {
     "data": {
      "text/plain": [
       "3"
      ]
     },
     "execution_count": 1,
     "metadata": {},
     "output_type": "execute_result"
    }
   ],
   "source": [
    "1+1\n",
    "1+2"
   ]
  },
  {
   "cell_type": "markdown",
   "id": "51a1db03-76c2-4b4d-bb06-0f861882562e",
   "metadata": {},
   "source": [
    "Python indeed does print the last line only"
   ]
  },
  {
   "cell_type": "code",
   "execution_count": 3,
   "id": "5144034c-1074-45a5-b2c2-3874b1effd81",
   "metadata": {},
   "outputs": [
    {
     "name": "stdout",
     "output_type": "stream",
     "text": [
      "2\n",
      "3\n"
     ]
    }
   ],
   "source": [
    "print(1+1)\n",
    "print(1+2)"
   ]
  },
  {
   "cell_type": "markdown",
   "id": "4cf01049-c57f-4411-935d-097f13903d8b",
   "metadata": {},
   "source": [
    "So we do need the print function if we want to print more than 1 thing"
   ]
  },
  {
   "cell_type": "code",
   "execution_count": null,
   "id": "b0fd90c4-a0a8-4bec-bcc9-7061ca4be4f8",
   "metadata": {},
   "outputs": [],
   "source": []
  }
 ],
 "metadata": {
  "kernelspec": {
   "display_name": "Python 3 (ipykernel)",
   "language": "python",
   "name": "python3"
  },
  "language_info": {
   "codemirror_mode": {
    "name": "ipython",
    "version": 3
   },
   "file_extension": ".py",
   "mimetype": "text/x-python",
   "name": "python",
   "nbconvert_exporter": "python",
   "pygments_lexer": "ipython3",
   "version": "3.11.5"
  },
  "toc": {
   "base_numbering": 1,
   "nav_menu": {},
   "number_sections": true,
   "sideBar": true,
   "skip_h1_title": false,
   "title_cell": "Table of Contents",
   "title_sidebar": "Contents",
   "toc_cell": false,
   "toc_position": {},
   "toc_section_display": true,
   "toc_window_display": false
  },
  "vscode": {
   "interpreter": {
    "hash": "31f2aee4e71d21fbe5cf8b01ff0e069b9275f58929596ceb00d14d90e3e16cd6"
   }
  }
 },
 "nbformat": 4,
 "nbformat_minor": 5
}
