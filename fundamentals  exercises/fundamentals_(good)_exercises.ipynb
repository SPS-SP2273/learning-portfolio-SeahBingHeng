{
 "cells": [
  {
   "cell_type": "markdown",
   "id": "123456",
   "metadata": {},
   "source": [
    "<div style=\"text-align:left;font-size:2em\"><span style=\"font-weight:bolder;font-size:1.25em\">SP2273 | Learning Portfolio</span><br><br><span style=\"font-weight:bold;color:darkred\">Fundamentals (Good) Exercises</span></div>"
   ]
  },
  {
   "cell_type": "code",
   "execution_count": 1,
   "id": "84608df3",
   "metadata": {},
   "outputs": [
    {
     "name": "stdout",
     "output_type": "stream",
     "text": [
      "Give me a number?10\n",
      "You entered 10\n"
     ]
    }
   ],
   "source": [
    "user_input = input('Give me a number?')\n",
    "print('You entered', user_input)"
   ]
  },
  {
   "cell_type": "code",
   "execution_count": 5,
   "id": "d9c3fdc3",
   "metadata": {},
   "outputs": [
    {
     "name": "stdout",
     "output_type": "stream",
     "text": [
      "Give me a number?1\n",
      "You entered 1\n"
     ]
    }
   ],
   "source": [
    "user_input = input('Give me a number?')    # trying to use concatenation \n",
    "print(f'You entered {user_input}')"
   ]
  },
  {
   "cell_type": "code",
   "execution_count": null,
   "id": "7c1fe9d6",
   "metadata": {},
   "outputs": [],
   "source": [
    "User_input = input('What is your score?')\n",
    "if User_input.isnumeric() == True:\n",
    "    typed = int(User_input)\n",
    "        if typed >= 70:\n",
    "    print(\"A\")\n",
    "\n",
    "elif typed >=50 and typed <= 69:\n",
    "    print(\"B\")\n",
    "    \n",
    "elif typed >=35 and typed <=49:\n",
    "    print(\"C\")\n",
    "\n",
    "elif typed <=34:\n",
    "    print(\"Fail\")\n",
    "    \n",
    "else: \n",
    "    print(\"enter number lah cb\")\n",
    "\n",
    "\n",
    "\n",
    "\n"
   ]
  },
  {
   "cell_type": "code",
   "execution_count": 5,
   "id": "cb79d6ac",
   "metadata": {},
   "outputs": [
    {
     "name": "stdin",
     "output_type": "stream",
     "text": [
      "What is your score? 180\n"
     ]
    },
    {
     "name": "stdout",
     "output_type": "stream",
     "text": [
      "Please give a valid number from 0 to 100\n"
     ]
    }
   ],
   "source": [
    "User_input = input('What is your score?')\n",
    "if User_input.isnumeric() == True:\n",
    "    User_input = int(User_input)\n",
    "    if User_input >= 70 and User_input <=100:\n",
    "        print(\"A\")\n",
    "    elif User_input >= 50 and User_input <=69:\n",
    "        print(\"B\")\n",
    "    elif User_input >= 35 and User_input <=49:\n",
    "        print(\"C\")\n",
    "    elif User_input >= 0 and User_input <=34:\n",
    "        print(\"Fail\")\n",
    "    else:\n",
    "        print('Please give a valid number from 0 to 100')\n",
    "else:\n",
    "    print(\"Please enter your number\")"
   ]
  },
  {
   "cell_type": "code",
   "execution_count": 6,
   "id": "e38b2939",
   "metadata": {},
   "outputs": [
    {
     "data": {
      "text/plain": [
       "6"
      ]
     },
     "execution_count": 6,
     "metadata": {},
     "output_type": "execute_result"
    }
   ],
   "source": [
    "eval('2*3')"
   ]
  },
  {
   "cell_type": "code",
   "execution_count": 8,
   "id": "545b1526-027c-4564-88c2-b98c8e03cf7a",
   "metadata": {},
   "outputs": [
    {
     "data": {
      "text/plain": [
       "True"
      ]
     },
     "execution_count": 8,
     "metadata": {},
     "output_type": "execute_result"
    }
   ],
   "source": [
    "a = \"B\"\n",
    "a.isalpha()"
   ]
  },
  {
   "cell_type": "code",
   "execution_count": 19,
   "id": "ae2c9683-9e95-4a33-be09-f2cb66b51f6d",
   "metadata": {},
   "outputs": [
    {
     "name": "stdin",
     "output_type": "stream",
     "text": [
      "What is your score? 124\n"
     ]
    },
    {
     "name": "stdout",
     "output_type": "stream",
     "text": [
      "Please give a valid number from 0 to 100\n"
     ]
    }
   ],
   "source": [
    "User_input = input('What is your score?')\n",
    "if User_input.isalpha() == True:                       #filter out alphabets\n",
    "    print(\"Please enter a numerical value\")\n",
    "\n",
    "else:\n",
    "    if User_input.isnumeric() == True:                  #convert all float to int \n",
    "        User_input = int(User_input)\n",
    "        if User_input >= 70 and User_input <=100:\n",
    "            print(\"A\")\n",
    "        elif User_input >= 50 and User_input <=69:\n",
    "            print(\"B\")\n",
    "        elif User_input >= 35 and User_input <=49:\n",
    "            print(\"C\")\n",
    "        elif User_input >= 0 and User_input <=34:\n",
    "            print(\"Fail\")\n",
    "        else:\n",
    "            print('Please give a valid number from 0 to 100')\n",
    "    "
   ]
  },
  {
   "cell_type": "code",
   "execution_count": null,
   "id": "2696782e-eb11-4ae6-a6dd-557321b30e82",
   "metadata": {},
   "outputs": [],
   "source": []
  }
 ],
 "metadata": {
  "kernelspec": {
   "display_name": "Python 3 (ipykernel)",
   "language": "python",
   "name": "python3"
  },
  "language_info": {
   "codemirror_mode": {
    "name": "ipython",
    "version": 3
   },
   "file_extension": ".py",
   "mimetype": "text/x-python",
   "name": "python",
   "nbconvert_exporter": "python",
   "pygments_lexer": "ipython3",
   "version": "3.11.5"
  },
  "toc": {
   "base_numbering": 1,
   "nav_menu": {},
   "number_sections": true,
   "sideBar": true,
   "skip_h1_title": false,
   "title_cell": "Table of Contents",
   "title_sidebar": "Contents",
   "toc_cell": false,
   "toc_position": {},
   "toc_section_display": true,
   "toc_window_display": false
  },
  "vscode": {
   "interpreter": {
    "hash": "31f2aee4e71d21fbe5cf8b01ff0e069b9275f58929596ceb00d14d90e3e16cd6"
   }
  }
 },
 "nbformat": 4,
 "nbformat_minor": 5
}
