{
 "cells": [
  {
   "attachments": {},
   "cell_type": "markdown",
   "id": "123456",
   "metadata": {},
   "source": [
    "<div style=\"text-align:left;font-size:2em\"><span style=\"font-weight:bolder;font-size:1.25em\">SP2273 | Learning Portfolio</span><br><br><span style=\"font-weight:bold;color:darkred\">Functions (Good) Exercises</span></div>"
   ]
  },
  {
   "cell_type": "markdown",
   "id": "c8e71afa-0dfb-48d0-ac95-4635a29be7c3",
   "metadata": {},
   "source": [
    "# ex 1"
   ]
  },
  {
   "cell_type": "code",
   "execution_count": 35,
   "id": "200168de-e71f-4bf3-8754-08cf421e1dfb",
   "metadata": {},
   "outputs": [
    {
     "name": "stdin",
     "output_type": "stream",
     "text": [
      "Please input the temperature in celsius 1.1\n",
      "Please input either Farenheit or Kelvin Kelvin\n"
     ]
    },
    {
     "name": "stdout",
     "output_type": "stream",
     "text": [
      "274.1\n"
     ]
    }
   ],
   "source": [
    "temperature_celsius = input('Please input the temperature in celsius')\n",
    "temp = float(temperature_celsius)                                      #convert str to either float/int so that i can use math operations on the input\n",
    "target_scale = input('Please input either Farenheit or Kelvin')         #Cause u can choose either of the 2 temp\n",
    "\n",
    "def convert_celsius(temp):                                    \n",
    "    if target_scale == 'Farenheit':\n",
    "        temperature = (temp * 9/5) +32\n",
    "        print(temperature)\n",
    "    elif target_scale == 'Kelvin':\n",
    "        temperature = temp + 273\n",
    "        print(temperature)\n",
    "\n",
    "convert_celsius(temp)                                               #code works. As usual, need to beautify and make sure ppl cant type gibberish\n",
    "    \n",
    "                                                              #when I use convert_celsius(temperature_celsius) it works too but idk why\n",
    " "
   ]
  },
  {
   "cell_type": "code",
   "execution_count": 38,
   "id": "69ab037a-1a78-4c0b-ab5c-34ed379da6d4",
   "metadata": {},
   "outputs": [
    {
     "name": "stdin",
     "output_type": "stream",
     "text": [
      "Please input the temperature in celsius 101\n",
      "Please input either Farenheit or Kelvin K\n"
     ]
    },
    {
     "ename": "UnboundLocalError",
     "evalue": "cannot access local variable 'target_scale' where it is not associated with a value",
     "output_type": "error",
     "traceback": [
      "\u001b[1;31m---------------------------------------------------------------------------\u001b[0m",
      "\u001b[1;31mUnboundLocalError\u001b[0m                         Traceback (most recent call last)",
      "Cell \u001b[1;32mIn[38], line 27\u001b[0m\n\u001b[0;32m     25\u001b[0m         target_scale \u001b[38;5;241m=\u001b[39m \u001b[38;5;28minput\u001b[39m(\u001b[38;5;124m'\u001b[39m\u001b[38;5;124mPlease input either Farenheit or Kelvin\u001b[39m\u001b[38;5;124m'\u001b[39m)     \u001b[38;5;66;03m#when this line is added, the code cannot function. I think cause the variable name target_scale confuses python intepretor\u001b[39;00m\n\u001b[0;32m     26\u001b[0m                                                                           \u001b[38;5;66;03m# Not very sure how to fix this so that I can prompt the user to retype the input for \"target_scale\"\u001b[39;00m\n\u001b[1;32m---> 27\u001b[0m \u001b[43mconvert_celsius\u001b[49m\u001b[43m(\u001b[49m\u001b[43mtemp\u001b[49m\u001b[43m)\u001b[49m        \n",
      "Cell \u001b[1;32mIn[38], line 17\u001b[0m, in \u001b[0;36mconvert_celsius\u001b[1;34m(temp)\u001b[0m\n\u001b[0;32m     16\u001b[0m \u001b[38;5;28;01mdef\u001b[39;00m \u001b[38;5;21mconvert_celsius\u001b[39m(temp):                                    \n\u001b[1;32m---> 17\u001b[0m     \u001b[38;5;28;01mif\u001b[39;00m \u001b[43mtarget_scale\u001b[49m \u001b[38;5;241m==\u001b[39m \u001b[38;5;124m'\u001b[39m\u001b[38;5;124mFarenheit\u001b[39m\u001b[38;5;124m'\u001b[39m:\n\u001b[0;32m     18\u001b[0m         temperature \u001b[38;5;241m=\u001b[39m (temp \u001b[38;5;241m*\u001b[39m \u001b[38;5;241m9\u001b[39m\u001b[38;5;241m/\u001b[39m\u001b[38;5;241m5\u001b[39m) \u001b[38;5;241m+\u001b[39m\u001b[38;5;241m32\u001b[39m\n\u001b[0;32m     19\u001b[0m         \u001b[38;5;28mprint\u001b[39m(temperature)\n",
      "\u001b[1;31mUnboundLocalError\u001b[0m: cannot access local variable 'target_scale' where it is not associated with a value"
     ]
    }
   ],
   "source": [
    "def is_float(string):                                            #I copied this off the net. So I tried temperature_celsius.isnumeric == False, but i realised that it cant work if I typed in float. This is a big problem cuz temperature can be like 1.5C.\n",
    "    try:                                                        # According to what I know based on the notes, the try block is where potential errors will occur. This block tries to convert the string that we typed in (temperature value in this case) into a float.\n",
    "        float(string)                                            #So if somehow cannot convert string into float eg if the string is \"????\", it will run the except portion\n",
    "        return True\n",
    "    except ValueError:\n",
    "        return False\n",
    "        \n",
    "temperature_celsius = input('Please input the temperature in celsius')\n",
    "while is_float(temperature_celsius) == False:                                  #if values cannot be converted to float, prompt is sent to retype\n",
    "    print('Please type in a valid temperature zzz')\n",
    "    temperature_celsius = input('Please input the temperature in celsius')\n",
    "    \n",
    "temp = float(temperature_celsius) \n",
    "target_scale = input('Please input either Farenheit or Kelvin')         \n",
    "\n",
    "def convert_celsius(temp):                                    \n",
    "    if target_scale == 'Farenheit':\n",
    "        temperature = (temp * 9/5) +32\n",
    "        print(temperature)\n",
    "    elif target_scale == 'Kelvin':\n",
    "        temperature = temp + 273\n",
    "        print(temperature)\n",
    "    else:\n",
    "        print('Please type in a valid mode of measuring temperature')\n",
    "        target_scale = input('Please input either Farenheit or Kelvin')     #when this line is added, the code cannot function. I think cause the variable name target_scale confuses python intepretor\n",
    "                                                                          # Not very sure how to fix this so that I can prompt the user to retype the input for \"target_scale\"\n",
    "convert_celsius(temp)        "
   ]
  },
  {
   "cell_type": "markdown",
   "id": "571e053c-117d-4582-aa65-269ba400153b",
   "metadata": {},
   "source": [
    "TLDR: The code can work even if the person makes a mistake. However, if the person did not type either Kelvin or Farenheit, then the code cannot function\n"
   ]
  },
  {
   "cell_type": "markdown",
   "id": "e7dcf78d-6380-4dc9-be7c-35685f5d6ceb",
   "metadata": {},
   "source": [
    "# ex 2\n"
   ]
  },
  {
   "cell_type": "code",
   "execution_count": 47,
   "id": "09e1ae3a-14d1-4b27-8fdb-d95bcc87699e",
   "metadata": {},
   "outputs": [
    {
     "name": "stdin",
     "output_type": "stream",
     "text": [
      "Please input the temperature in Farenheit 111.23\n",
      "Please input either Celsius or Kelvin Kelvin\n"
     ]
    },
    {
     "name": "stdout",
     "output_type": "stream",
     "text": [
      "317.2\n"
     ]
    }
   ],
   "source": [
    "temperature_Farenheit = input('Please input the temperature in Farenheit')\n",
    "temp = float(temperature_Farenheit)                                      #convert str to either float/int so that i can use math operations on the input\n",
    "target_scale = input('Please input either Celsius or Kelvin')         #Cause u can choose either of the 2 temp\n",
    "\n",
    "def convert_Farenheit(temp):                                    \n",
    "    if target_scale == 'Celsius':\n",
    "        temperature = (temp - 32)*5/9 \n",
    "        print(round(temperature,1))                           #basically a repeat of ex 1. Round to make the temp calculated out to 1dp\n",
    "    elif target_scale == 'Kelvin':\n",
    "        temperature = (temp - 32) *5/9 +273.15\n",
    "        print(round(temperature,1))\n",
    "\n",
    "convert_Farenheit(temp)                       "
   ]
  },
  {
   "cell_type": "markdown",
   "id": "76bf9463-976e-44a5-9db9-3d5daa55dc1d",
   "metadata": {},
   "source": [
    "# ex 3\n"
   ]
  },
  {
   "cell_type": "code",
   "execution_count": 50,
   "id": "a04b3c86-afaf-4006-93bf-00e6acd702a1",
   "metadata": {},
   "outputs": [
    {
     "name": "stdin",
     "output_type": "stream",
     "text": [
      "Please input the temperature value 0\n",
      "Please input either Celsius,Farenheit or Kelvin Kelvin\n",
      "Please input either Celsius,Farenheit or Kelvin Celsius\n"
     ]
    },
    {
     "name": "stdout",
     "output_type": "stream",
     "text": [
      "-273.1\n"
     ]
    }
   ],
   "source": [
    "temperaturez = input('Please input the temperature value')\n",
    "temp = float(temperaturez)                                  \n",
    "source_scale = input('Please input either Celsius,Farenheit or Kelvin')\n",
    "target_scale = input('Please input either Celsius,Farenheit or Kelvin')         \n",
    "\n",
    "def convert_temperature(temp):                                  # we create 3 blocks of code for 3 different source scale(the scale which corresponds to the input temp)\n",
    "        if source_scale == 'Celsius':                            # For each source, we create a conversion for the other 2 mode of measuring temp\n",
    "            \n",
    "            if target_scale == 'Farenheit':\n",
    "                temperature = (temp * 9/5) +32\n",
    "                print(round(temperature,1))                           \n",
    "            elif target_scale == 'Kelvin':\n",
    "                temperature = temp + 273.15\n",
    "                print(round(temperature,1))\n",
    "                \n",
    "        elif source_scale == 'Farenheit':\n",
    "            \n",
    "            if target_scale == 'Celsius':\n",
    "                temperature = (temp - 32)*5/9 \n",
    "                print(round(temperature,1))                           \n",
    "            elif target_scale == 'Kelvin':\n",
    "                temperature = (temp - 32) *5/9 +273.15\n",
    "                print(round(temperature,1))\n",
    "                \n",
    "        elif source_scale == 'Kelvin':\n",
    "            \n",
    "            if target_scale == 'Celsius':\n",
    "                temperature = temp - 273.15\n",
    "                print(round(temperature,1))                           \n",
    "            elif target_scale == 'Farenheit':\n",
    "                temperature = (temp - 273.15) *9/5 +32\n",
    "                print(round(temperature,1))\n",
    "        \n",
    "\n",
    "convert_temperature(temp)                       "
   ]
  },
  {
   "cell_type": "code",
   "execution_count": null,
   "id": "4c2a4394-c0b7-457d-b4d0-370e6916fd52",
   "metadata": {},
   "outputs": [],
   "source": []
  }
 ],
 "metadata": {
  "kernelspec": {
   "display_name": "Python 3 (ipykernel)",
   "language": "python",
   "name": "python3"
  },
  "language_info": {
   "codemirror_mode": {
    "name": "ipython",
    "version": 3
   },
   "file_extension": ".py",
   "mimetype": "text/x-python",
   "name": "python",
   "nbconvert_exporter": "python",
   "pygments_lexer": "ipython3",
   "version": "3.11.5"
  },
  "toc": {
   "base_numbering": 1,
   "nav_menu": {},
   "number_sections": true,
   "sideBar": true,
   "skip_h1_title": false,
   "title_cell": "Table of Contents",
   "title_sidebar": "Contents",
   "toc_cell": false,
   "toc_position": {},
   "toc_section_display": true,
   "toc_window_display": false
  },
  "vscode": {
   "interpreter": {
    "hash": "31f2aee4e71d21fbe5cf8b01ff0e069b9275f58929596ceb00d14d90e3e16cd6"
   }
  }
 },
 "nbformat": 4,
 "nbformat_minor": 5
}
