{
 "cells": [
  {
   "attachments": {},
   "cell_type": "markdown",
   "id": "123456",
   "metadata": {},
   "source": [
    "<div style=\"text-align:left;font-size:2em\"><span style=\"font-weight:bolder;font-size:1.25em\">SP2273 | Learning Portfolio</span><br><br><span style=\"font-weight:bold;color:darkred\">Functions (Good) Exercises</span></div>"
   ]
  },
  {
   "cell_type": "markdown",
   "id": "c8e71afa-0dfb-48d0-ac95-4635a29be7c3",
   "metadata": {},
   "source": [
    "# ex 1"
   ]
  },
  {
   "cell_type": "code",
   "execution_count": 2,
   "id": "200168de-e71f-4bf3-8754-08cf421e1dfb",
   "metadata": {},
   "outputs": [
    {
     "data": {
      "text/plain": [
       "140.0"
      ]
     },
     "execution_count": 2,
     "metadata": {},
     "output_type": "execute_result"
    }
   ],
   "source": [
    "\n",
    "\n",
    "\n",
    "def convert_celsius(temperature_celsius, target_scale= 'Farenheit'):                                     \n",
    "    if target_scale == 'Farenheit':\n",
    "        temperature = (temperature_celsius * 9/5) +32\n",
    "        return(temperature)\n",
    "    elif target_scale == 'Kelvin':\n",
    "        temperature = temperature_celsius + 273.15\n",
    "        return(temperature)\n",
    "\n",
    "convert_celsius(60)                                             \n",
    "    \n",
    "                                                              "
   ]
  },
  {
   "cell_type": "code",
   "execution_count": 27,
   "id": "e79732e0-2e2e-4db9-be38-c38fecdfa5d9",
   "metadata": {},
   "outputs": [
    {
     "name": "stdout",
     "output_type": "stream",
     "text": [
      "53.6\n"
     ]
    }
   ],
   "source": [
    "y = convert_celsius(12)\n",
    "print(y)                 #if I used print for the block of code above, it will print the value once off. This means that y will actually not have a value. "
   ]
  },
  {
   "cell_type": "markdown",
   "id": "16aa6402-b40e-45c0-85ff-64dccd276dc0",
   "metadata": {},
   "source": [
    "# ignore this code for now\n",
    "def is_float(string):                                            #I copied this off the net. So I tried temperature_celsius.isnumeric == False, but i realised that it cant work if I typed in float. This is a big problem cuz temperature can be like 1.5C.\n",
    "    try:                                                        # According to what I know based on the notes, the try block is where potential errors will occur. This block tries to convert the string that we typed in (temperature value in this case) into a float.\n",
    "        float(string)                                            #So if somehow cannot convert string into float eg if the string is \"????\", it will run the except portion\n",
    "        return True\n",
    "    except ValueError:\n",
    "        return False\n",
    "        \n",
    "temperature_celsius = input('Please input the temperature in celsius')\n",
    "while is_float(temperature_celsius) == False:                                  #if values cannot be converted to float, prompt is sent to retype\n",
    "    print('Please type in a valid temperature zzz')\n",
    "    temperature_celsius = input('Please input the temperature in celsius')\n",
    "    \n",
    "temp = float(temperature_celsius) \n",
    "target_scale = input('Please input either Farenheit or Kelvin')         \n",
    "\n",
    "def convert_celsius(temp):                                    \n",
    "    if target_scale == 'Farenheit':\n",
    "        temperature = (temp * 9/5) +32\n",
    "        print(temperature)\n",
    "    elif target_scale == 'Kelvin':\n",
    "        temperature = temp + 273\n",
    "        print(temperature)\n",
    "    else:\n",
    "        print('Please type in a valid mode of measuring temperature')\n",
    "        target_scale = input('Please input either Farenheit or Kelvin')     #when this line is added, the code cannot function. I think cause the variable name target_scale confuses python intepretor\n",
    "                                                                          # Not very sure how to fix this so that I can prompt the user to retype the input for \"target_scale\"\n",
    "convert_celsius(temp)        "
   ]
  },
  {
   "cell_type": "markdown",
   "id": "571e053c-117d-4582-aa65-269ba400153b",
   "metadata": {},
   "source": [
    "TLDR: The code can work even if the person makes a mistake. However, if the person did not type either Kelvin or Farenheit, then the code cannot function\n"
   ]
  },
  {
   "cell_type": "markdown",
   "id": "e7dcf78d-6380-4dc9-be7c-35685f5d6ceb",
   "metadata": {},
   "source": [
    "# ex 2\n"
   ]
  },
  {
   "cell_type": "code",
   "execution_count": 5,
   "id": "09e1ae3a-14d1-4b27-8fdb-d95bcc87699e",
   "metadata": {},
   "outputs": [
    {
     "data": {
      "text/plain": [
       "26.666666666666668"
      ]
     },
     "execution_count": 5,
     "metadata": {},
     "output_type": "execute_result"
    }
   ],
   "source": [
    "\n",
    "\n",
    "def convert_farenheit(temperature_farenheit, target_scale= 'Celsius'):        #you input a value in degree. The default value is in Farenheit.                               \n",
    "    if target_scale == 'Celsius':\n",
    "        temperature = (temperature_farenheit -32) * 5/9\n",
    "        return temperature\n",
    "    elif target_scale == 'Kelvin':\n",
    "        temperature = (temperature_farenheit -32) * 5/9 +273.15\n",
    "        return temperature\n",
    "\n",
    "\n",
    "convert_farenheit(80)                       "
   ]
  },
  {
   "cell_type": "markdown",
   "id": "76bf9463-976e-44a5-9db9-3d5daa55dc1d",
   "metadata": {},
   "source": [
    "# ex 3\n"
   ]
  },
  {
   "cell_type": "code",
   "execution_count": 6,
   "id": "a04b3c86-afaf-4006-93bf-00e6acd702a1",
   "metadata": {},
   "outputs": [
    {
     "data": {
      "text/plain": [
       "140.0"
      ]
     },
     "execution_count": 6,
     "metadata": {},
     "output_type": "execute_result"
    }
   ],
   "source": [
    "def convert_kelvin(temperature_kelvin, target_scale= 'Celsius'):        #Change kelvin to celsius                               \n",
    "    if target_scale == 'Celsius':\n",
    "        temperature = (temperature_kelvin - 273.15)\n",
    "        return temperature\n",
    "    elif target_scale == 'Farenheit':\n",
    "        temperature = (temperature_kelvin - 273.15) *9/5 +32\n",
    "        return temperature\n",
    "\n",
    "\n",
    "\n",
    "def convert_temperature(temperature, source_scale,target_scale):                                  # we create 3 blocks of code for 3 different source scale(the scale which corresponds to the input temp)\n",
    "    if source_scale == 'Celsius':\n",
    "        return convert_celsius(temperature, target_scale)\n",
    "        \n",
    "\n",
    "    if source_Scale == 'Farenheit':\n",
    "        return convert_Farenheit(temperature, target_scale)\n",
    "\n",
    "    if source_scale == 'Kelvin':\n",
    "        return convert_kelvin(temperature, target_scale)\n",
    "            \n",
    "  \n",
    "convert_temperature(60,'Celsius', 'Farenheit')                       "
   ]
  },
  {
   "cell_type": "code",
   "execution_count": null,
   "id": "4c2a4394-c0b7-457d-b4d0-370e6916fd52",
   "metadata": {},
   "outputs": [],
   "source": []
  }
 ],
 "metadata": {
  "kernelspec": {
   "display_name": "Python 3 (ipykernel)",
   "language": "python",
   "name": "python3"
  },
  "language_info": {
   "codemirror_mode": {
    "name": "ipython",
    "version": 3
   },
   "file_extension": ".py",
   "mimetype": "text/x-python",
   "name": "python",
   "nbconvert_exporter": "python",
   "pygments_lexer": "ipython3",
   "version": "3.11.5"
  },
  "toc": {
   "base_numbering": 1,
   "nav_menu": {},
   "number_sections": true,
   "sideBar": true,
   "skip_h1_title": false,
   "title_cell": "Table of Contents",
   "title_sidebar": "Contents",
   "toc_cell": false,
   "toc_position": {},
   "toc_section_display": true,
   "toc_window_display": false
  },
  "vscode": {
   "interpreter": {
    "hash": "31f2aee4e71d21fbe5cf8b01ff0e069b9275f58929596ceb00d14d90e3e16cd6"
   }
  }
 },
 "nbformat": 4,
 "nbformat_minor": 5
}
