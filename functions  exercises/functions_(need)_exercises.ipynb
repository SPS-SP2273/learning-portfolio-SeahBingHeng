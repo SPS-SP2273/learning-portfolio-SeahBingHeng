{
 "cells": [
  {
   "attachments": {},
   "cell_type": "markdown",
   "id": "123456",
   "metadata": {},
   "source": [
    "<div style=\"text-align:left;font-size:2em\"><span style=\"font-weight:bolder;font-size:1.25em\">SP2273 | Learning Portfolio</span><br><br><span style=\"font-weight:bold;color:darkred\">Functions (Need) Exercises</span></div>"
   ]
  },
  {
   "cell_type": "markdown",
   "id": "62fac77f-3c94-49ae-844a-787ffa06763a",
   "metadata": {},
   "source": [
    "# ex 1"
   ]
  },
  {
   "cell_type": "code",
   "execution_count": 1,
   "id": "87815479-374c-4678-8422-1b2b68937b7d",
   "metadata": {},
   "outputs": [],
   "source": [
    "def greeting(name):\n",
    "    if name == 'Batman':\n",
    "        return 'Hello Batman! So, nice to meet you!'\n",
    "    return f'Hello {name}!'"
   ]
  },
  {
   "cell_type": "code",
   "execution_count": 4,
   "id": "74a90c7f-af6d-4ddf-be28-268bf15fe47d",
   "metadata": {},
   "outputs": [
    {
     "data": {
      "text/plain": [
       "'Hello Hi!'"
      ]
     },
     "execution_count": 4,
     "metadata": {},
     "output_type": "execute_result"
    }
   ],
   "source": [
    "greeting('Hi')"
   ]
  },
  {
   "cell_type": "code",
   "execution_count": 5,
   "id": "2d4a3cc7-2005-46c2-853a-7e003fc6e240",
   "metadata": {},
   "outputs": [
    {
     "data": {
      "text/plain": [
       "'Hello Batman! So, nice to meet you!'"
      ]
     },
     "execution_count": 5,
     "metadata": {},
     "output_type": "execute_result"
    }
   ],
   "source": [
    "greeting('Batman')"
   ]
  },
  {
   "cell_type": "markdown",
   "id": "73b98b1e-1128-4854-9233-00d95aed5925",
   "metadata": {},
   "source": [
    "When a return is used, the value \"\" is printed out and the rest of the loop below is ignored. \n",
    "Thus if i used \"Hi\", it will not satify the If condition, thus line 2 and 3 will not have any response. On line 4 which is not part of the If condition, it will print out Hello + the string that I typed in.\n",
    "\n",
    "If i use 'Batman', the If condition is satisfied. It will return a pre set text.\n",
    "The line after(line 4) will be ignored as line 3 has a return function. "
   ]
  },
  {
   "cell_type": "code",
   "execution_count": 6,
   "id": "f5103d29-2fb5-4b88-82b3-282c2b36877c",
   "metadata": {},
   "outputs": [],
   "source": [
    "def greeting(name):\n",
    "    if name == 'Batman':\n",
    "        print( 'Hello Batman! So, nice to meet you!')\n",
    "    return f'Hello {name}!'"
   ]
  },
  {
   "cell_type": "code",
   "execution_count": 8,
   "id": "f6a9c2bd-0927-416e-866d-c61405cc8b82",
   "metadata": {},
   "outputs": [
    {
     "name": "stdout",
     "output_type": "stream",
     "text": [
      "Hello Batman! So, nice to meet you!\n"
     ]
    },
    {
     "data": {
      "text/plain": [
       "'Hello Batman!'"
      ]
     },
     "execution_count": 8,
     "metadata": {},
     "output_type": "execute_result"
    }
   ],
   "source": [
    "greeting('Batman')"
   ]
  },
  {
   "cell_type": "markdown",
   "id": "b8a8c148-2f2d-4b32-8abd-1f6e7f574553",
   "metadata": {},
   "source": [
    "So in this case where i chanegd the line 3's return to print, it will print out the preset text. But because it is print and not return, the python intepretor will continue reading the next line and hence print 'Hello' + the string that I typed in."
   ]
  },
  {
   "cell_type": "code",
   "execution_count": 9,
   "id": "5bee0cda-ef76-4f3c-b284-cbd1538add9c",
   "metadata": {},
   "outputs": [],
   "source": [
    "# ex 2"
   ]
  },
  {
   "cell_type": "code",
   "execution_count": 34,
   "id": "3854d59d-b941-4d2e-b4ff-a70e6c5e8944",
   "metadata": {},
   "outputs": [
    {
     "name": "stdin",
     "output_type": "stream",
     "text": [
      "what is your height in metres? a\n"
     ]
    },
    {
     "ename": "ValueError",
     "evalue": "could not convert string to float: 'a'",
     "output_type": "error",
     "traceback": [
      "\u001b[1;31m---------------------------------------------------------------------------\u001b[0m",
      "\u001b[1;31mValueError\u001b[0m                                Traceback (most recent call last)",
      "Cell \u001b[1;32mIn[34], line 1\u001b[0m\n\u001b[1;32m----> 1\u001b[0m height \u001b[38;5;241m=\u001b[39m \u001b[38;5;28;43mfloat\u001b[39;49m\u001b[43m(\u001b[49m\u001b[38;5;28;43minput\u001b[39;49m\u001b[43m(\u001b[49m\u001b[38;5;124;43m'\u001b[39;49m\u001b[38;5;124;43mwhat is your height in metres?\u001b[39;49m\u001b[38;5;124;43m'\u001b[39;49m\u001b[43m)\u001b[49m\u001b[43m)\u001b[49m\n\u001b[0;32m      2\u001b[0m weight \u001b[38;5;241m=\u001b[39m \u001b[38;5;28mfloat\u001b[39m(\u001b[38;5;28minput\u001b[39m(\u001b[38;5;124m'\u001b[39m\u001b[38;5;124mwhat is your weight in kg?\u001b[39m\u001b[38;5;124m'\u001b[39m))                 \u001b[38;5;66;03m#float cause height in metres has decimals. \u001b[39;00m\n\u001b[0;32m      3\u001b[0m BMI \u001b[38;5;241m=\u001b[39m weight\u001b[38;5;241m/\u001b[39m(height\u001b[38;5;241m*\u001b[39m\u001b[38;5;241m*\u001b[39m\u001b[38;5;241m2\u001b[39m)                                         \u001b[38;5;66;03m#Also, float causes the str to become manipulatable by math\u001b[39;00m\n",
      "\u001b[1;31mValueError\u001b[0m: could not convert string to float: 'a'"
     ]
    }
   ],
   "source": [
    "\n",
    "height = float(input('what is your height in metres?'))\n",
    "weight = float(input('what is your weight in kg?'))                 #float cause height in metres has decimals. \n",
    "BMI = weight/(height**2)                                         #Also, float causes the str to become manipulatable by math\n",
    "\n",
    "def calculated_bmi(BMI):    \n",
    "    if BMI < 18.5:\n",
    "        print('You are underweight')\n",
    "    elif BMI >= 18.5 and BMI<24.9:\n",
    "        print('Your weight is normal')\n",
    "    elif BMI >= 25 and BMI < 29.9:\n",
    "        print('You are overweight')\n",
    "    elif BMI >= 30:\n",
    "        print('You are obese')\n",
    "\n",
    "calculated_bmi(BMI)                                    #need to call the function\n",
    "                                                       #however, we can improve on it cause some fella might put non numbers eg abdwqwqwq or like height in cm\n",
    "    \n"
   ]
  },
  {
   "cell_type": "code",
   "execution_count": 2,
   "id": "43559fac-1eb7-48f5-b6ae-32f7bbd20356",
   "metadata": {},
   "outputs": [
    {
     "name": "stdin",
     "output_type": "stream",
     "text": [
      "what is your height in metres? 1\n",
      "what is your weight in metres? 1\n"
     ]
    },
    {
     "name": "stdout",
     "output_type": "stream",
     "text": [
      "You are underweight\n"
     ]
    }
   ],
   "source": [
    "def calculated_bmi(BMI):    \n",
    "    if BMI < 18.5:\n",
    "         print('You are underweight')\n",
    "    elif BMI >= 18.5 and BMI<24.9:\n",
    "        print('Your weight is normal')\n",
    "    elif BMI >= 25 and BMI < 29.9:\n",
    "         print('You are overweight')\n",
    "    elif BMI >= 30:\n",
    "        print('You are obese')\n",
    "\n",
    "\n",
    "height = input('what is your height in metres?')                 #is.numeric checks that a number is input rather than gibberish\n",
    "while height.isnumeric() == False:                                 #if gibberish is typed, we prompt them to retype again until a number(str) is typed in\n",
    "    print('Please retype')\n",
    "    height = input('what is your height in metres?')\n",
    "height1 = float(height)                                        #cant do height = float(height) idk why, so i changed variable name\n",
    "\n",
    "\n",
    "weight = input('what is your weight in metres?')                #likewise as above. This ensures that all input are float so that BMI can be calculated using math\n",
    "while weight.isnumeric() == False:\n",
    "    print('Please retype')\n",
    "    weight = input('what is your weight in metres?')\n",
    "weight1 = float(height)\n",
    "    \n",
    "BMI = weight1/(height1**2)                                         \n",
    "\n",
    "\n",
    "\n",
    "calculated_bmi(BMI)   "
   ]
  },
  {
   "cell_type": "code",
   "execution_count": null,
   "id": "f269bdfa-14e4-4431-8bb5-a9229127b868",
   "metadata": {},
   "outputs": [],
   "source": []
  }
 ],
 "metadata": {
  "kernelspec": {
   "display_name": "Python 3 (ipykernel)",
   "language": "python",
   "name": "python3"
  },
  "language_info": {
   "codemirror_mode": {
    "name": "ipython",
    "version": 3
   },
   "file_extension": ".py",
   "mimetype": "text/x-python",
   "name": "python",
   "nbconvert_exporter": "python",
   "pygments_lexer": "ipython3",
   "version": "3.11.5"
  },
  "toc": {
   "base_numbering": 1,
   "nav_menu": {},
   "number_sections": true,
   "sideBar": true,
   "skip_h1_title": false,
   "title_cell": "Table of Contents",
   "title_sidebar": "Contents",
   "toc_cell": false,
   "toc_position": {},
   "toc_section_display": true,
   "toc_window_display": false
  },
  "vscode": {
   "interpreter": {
    "hash": "31f2aee4e71d21fbe5cf8b01ff0e069b9275f58929596ceb00d14d90e3e16cd6"
   }
  }
 },
 "nbformat": 4,
 "nbformat_minor": 5
}
