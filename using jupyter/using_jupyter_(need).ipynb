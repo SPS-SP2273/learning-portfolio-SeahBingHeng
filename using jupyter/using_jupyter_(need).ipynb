{
 "cells": [
  {
   "cell_type": "markdown",
   "id": "1224953f",
   "metadata": {},
   "source": [
    "# 1 What to expect in this chapter"
   ]
  },
  {
   "cell_type": "markdown",
   "id": "39cd90f0-0f86-41e5-9b23-3215d4c9ab75",
   "metadata": {},
   "source": [
    "# 2 Getting \n"
   ]
  },
  {
   "cell_type": "code",
   "execution_count": 2,
   "id": "0595fe5d-432b-4bde-a2a5-5bf7474eb806",
   "metadata": {},
   "outputs": [
    {
     "name": "stdout",
     "output_type": "stream",
     "text": [
      "36\n"
     ]
    }
   ],
   "source": [
    "a = 4\n",
    "b = 12\n",
    "c = 20\n",
    "print(a+c+b)"
   ]
  },
  {
   "cell_type": "code",
   "execution_count": 3,
   "id": "d8e8c639-2812-4790-8504-5b9f17fbb921",
   "metadata": {},
   "outputs": [
    {
     "name": "stdout",
     "output_type": "stream",
     "text": [
      "Bonjour\n"
     ]
    }
   ],
   "source": [
    "print(\"Bonjour\")"
   ]
  },
  {
   "cell_type": "markdown",
   "id": "e7cd06c7",
   "metadata": {},
   "source": [
    "# 3 Getting started with Jupyter"
   ]
  },
  {
   "cell_type": "markdown",
   "id": "0c2d0e19",
   "metadata": {},
   "source": [
    "## 3.1 It is all about running cells"
   ]
  },
  {
   "cell_type": "markdown",
   "id": "80285059-c151-4175-a391-4063de777264",
   "metadata": {},
   "source": [
    "The ships hung in the sky in much the same way that bricks don’t.\n",
    "\n",
    "#what does this even mean"
   ]
  },
  {
   "cell_type": "markdown",
   "id": "4a742409",
   "metadata": {},
   "source": [
    "## 3.2 A traditional start"
   ]
  },
  {
   "cell_type": "markdown",
   "id": "7ebbbb6c-cf37-473d-84c9-a8b515269949",
   "metadata": {},
   "source": [
    "Style \tSyntax\n",
    "Bold \t** ** or __ __\n",
    "Italic \t* * or _ _\n",
    "All bold and italic \t*** ***\n",
    "Subscript \t<sub> </sub>\n",
    "Superscript \t<sup> </sup>"
   ]
  },
  {
   "cell_type": "markdown",
   "id": "58dce657-dbc2-4f05-872a-2bd1d45410d7",
   "metadata": {},
   "source": [
    "The **ships** hung __in__ the _sky_ in much the same way that bricks don’t.<sup>1</sup><sub>Says who</sub>"
   ]
  },
  {
   "cell_type": "markdown",
   "id": "dff4f3c9-bb54-44f8-84fa-eb03790dbdd0",
   "metadata": {},
   "source": [
    "# 3.3 OOPS I think i deleted some\n",
    "\n",
    "## big?\n",
    "\n",
    "### smaller\n",
    "\n",
    "#### smallest\n"
   ]
  },
  {
   "cell_type": "markdown",
   "id": "b2a1a029-605d-4fa3-a64f-b8b8cd83900a",
   "metadata": {},
   "source": [
    "3.4\n",
    "```python\n",
    "print('A')\n",
    "print('Hello World!')\n",
    "```"
   ]
  },
  {
   "cell_type": "markdown",
   "id": "a5480365-3d35-4e79-b2ed-ac37f1892295",
   "metadata": {},
   "source": [
    "# 3.5\n",
    "\n",
    "[SP2273 Website](https://sps.nus.edu.sg/sp2273)\n",
    "\n",
    "[??](https://medium.com/@jmpumphrey/debugging-your-emotions-what-to-do-when-code-makes-you-cry-90e769dfa826)"
   ]
  },
  {
   "cell_type": "markdown",
   "id": "957d3e8a-1ed2-4a51-a2f4-a02b16906c5e",
   "metadata": {},
   "source": [
    "# 3.6\n",
    "![](https://nus.edu.sg/images/default-source/base/logo.png)\n",
    "![](data:image/jpeg;base64,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)"
   ]
  },
  {
   "cell_type": "markdown",
   "id": "7f601c55-9cae-4e6c-a7b3-177509326269",
   "metadata": {},
   "source": [
    "#3.7 \n",
    "| A    |  B   |    C |\n",
    "| :--- | :--: | ---: |\n",
    "| a1   |  b1  |   c1 |\n",
    "| :--- | :--: | ---: |\n",
    "| a3   |  b3  |   c3 |"
   ]
  },
  {
   "cell_type": "markdown",
   "id": "12de1442-5d35-46a5-b064-391126890254",
   "metadata": {},
   "source": [
    "1. Master Yoda\n",
    "1. Luke Skywalker\n",
    "1. Anakin Skywalker\n",
    "\n",
    "- Master Yoda\n",
    "- Luke Skywalker\n",
    "- Anakin Skywalker\n",
    "\n",
    "1. Master Yoda\n",
    "   - Was a Jedi\n",
    "   - Was a bit green\n",
    "1. Luke Skywalker\n",
    "   - Was a Jedi\n",
    "   1. Is Anakin's son.\n",
    "1. Anakin Skywalker\n",
    "   1. Was a Jedi then became a baddie\n",
    "   1. Is famous for saying 'Luke, I am your father'"
   ]
  },
  {
   "cell_type": "markdown",
   "id": "f9d5f0fa-5329-4b00-b644-6ef7780396f2",
   "metadata": {},
   "source": [
    "# 3.9\n",
    "\n",
    "$$\n",
    "x = \\dfrac{-b \\pm \\sqrt{b^2-4ac}}{2a}\n",
    "$$\n",
    "\n",
    "$$\n",
    "x = 2^{\\sqrt {a+b}}\n",
    "$$ "
   ]
  },
  {
   "cell_type": "markdown",
   "id": "90a02f06",
   "metadata": {},
   "source": [
    "# 4 All about Markdown"
   ]
  },
  {
   "cell_type": "markdown",
   "id": "c4192ac7",
   "metadata": {},
   "source": [
    "This is a ^[footnote] \n",
    "\n"
   ]
  },
  {
   "cell_type": "markdown",
   "id": "cb2d2a84",
   "metadata": {},
   "source": [
    "#number list\n",
    "\n",
    "1. a\n",
    "3. b\n",
    "2. c"
   ]
  },
  {
   "cell_type": "markdown",
   "id": "6649d09b",
   "metadata": {},
   "source": [
    "## 4.1 Rendering Markdown cells"
   ]
  },
  {
   "cell_type": "markdown",
   "id": "7a308681",
   "metadata": {},
   "source": [
    "## 4.2 Some basic syntax"
   ]
  },
  {
   "cell_type": "markdown",
   "id": "46cd715c",
   "metadata": {},
   "source": [
    "## 4.3 Headings"
   ]
  },
  {
   "cell_type": "markdown",
   "id": "36bf01a3",
   "metadata": {},
   "source": [
    "## 4.4 Displaying Code"
   ]
  },
  {
   "cell_type": "markdown",
   "id": "e4415c6e",
   "metadata": {},
   "source": [
    "## 4.5 Links"
   ]
  },
  {
   "cell_type": "markdown",
   "id": "28673577",
   "metadata": {},
   "source": [
    "## 4.6 Images"
   ]
  },
  {
   "cell_type": "markdown",
   "id": "e6095c4d",
   "metadata": {},
   "source": [
    "## 4.7 Tables"
   ]
  },
  {
   "cell_type": "markdown",
   "id": "4d590500",
   "metadata": {},
   "source": [
    "## 4.8 Lists"
   ]
  },
  {
   "cell_type": "markdown",
   "id": "c6743d69",
   "metadata": {},
   "source": [
    "## 4.9 Equations"
   ]
  },
  {
   "cell_type": "markdown",
   "id": "e9555e24",
   "metadata": {},
   "source": [
    "## Footnotes"
   ]
  }
 ],
 "metadata": {
  "kernelspec": {
   "display_name": "Python 3 (ipykernel)",
   "language": "python",
   "name": "python3"
  },
  "language_info": {
   "codemirror_mode": {
    "name": "ipython",
    "version": 3
   },
   "file_extension": ".py",
   "mimetype": "text/x-python",
   "name": "python",
   "nbconvert_exporter": "python",
   "pygments_lexer": "ipython3",
   "version": "3.11.5"
  },
  "toc": {
   "base_numbering": 1,
   "nav_menu": {},
   "number_sections": true,
   "sideBar": true,
   "skip_h1_title": false,
   "title_cell": "Table of Contents",
   "title_sidebar": "Contents",
   "toc_cell": false,
   "toc_position": {},
   "toc_section_display": true,
   "toc_window_display": false
  },
  "vscode": {
   "interpreter": {
    "hash": "31f2aee4e71d21fbe5cf8b01ff0e069b9275f58929596ceb00d14d90e3e16cd6"
   }
  }
 },
 "nbformat": 4,
 "nbformat_minor": 5
}
