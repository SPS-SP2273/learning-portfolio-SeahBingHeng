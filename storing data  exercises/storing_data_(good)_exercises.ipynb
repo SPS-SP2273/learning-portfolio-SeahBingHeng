{
 "cells": [
  {
   "cell_type": "markdown",
   "id": "123456",
   "metadata": {},
   "source": [
    "<div style=\"text-align:left;font-size:2em\"><span style=\"font-weight:bolder;font-size:1.25em\">SP2273 | Learning Portfolio</span><br><br><span style=\"font-weight:bold;color:darkred\">Storing Data (Good) Exercises</span></div>"
   ]
  },
  {
   "cell_type": "markdown",
   "id": "f0fd7cec",
   "metadata": {},
   "source": [
    "\n",
    "Subsetting \t   |    *to select*\n",
    "\n",
    "Indexing \t   |    Choosing 1 element within a list\n",
    "\n",
    "Slicing \t   |    Choosing a range of elements within a list\n",
    "\n",
    "Masking \t   |    Choosing a specific set of elements that conforms to the criteria eg in a list of 1 to 10, if x >3, we will                      mask 1,2 and 3, and only show 4-10 "
   ]
  },
  {
   "cell_type": "code",
   "execution_count": 15,
   "id": "adb9096f",
   "metadata": {},
   "outputs": [
    {
     "name": "stdout",
     "output_type": "stream",
     "text": [
      "['1' '3' '2' '4' '5' '7' '6' '8' '10' '9']\n"
     ]
    }
   ],
   "source": [
    "import numpy as np\n",
    "np_array_2d = np.array([[1, \"A\"], [3, \"C\"], [2, \"B\"], [4, \"D\"],\n",
    "                        [5, \"E\"], [7, \"G\"], [6, \"F\"], [8, \"H\"],\n",
    "                        [10, \"J\"], [9, \"I\"]])\n",
    "np_1element = np_array_2d[0:10,0]                        #masking by selecting the first element of all variables\n",
    "\n",
    "print(np_1element)                                      #checking if only the 1st elements are sieved out"
   ]
  },
  {
   "cell_type": "code",
   "execution_count": 18,
   "id": "6c1e4193",
   "metadata": {},
   "outputs": [
    {
     "name": "stdout",
     "output_type": "stream",
     "text": [
      "[1 1 0 0 1 1 0 0 0 1]\n"
     ]
    }
   ],
   "source": [
    "np_1array = np_1element.astype(int)              #changing all str to int\n",
    "print(np_1array%2)                               #dividing all int to see if remainder is 0 or 1"
   ]
  },
  {
   "cell_type": "code",
   "execution_count": 25,
   "id": "41e69a7a",
   "metadata": {},
   "outputs": [
    {
     "ename": "IndexError",
     "evalue": "index 10 is out of bounds for axis 0 with size 10",
     "output_type": "error",
     "traceback": [
      "\u001b[1;31m---------------------------------------------------------------------------\u001b[0m",
      "\u001b[1;31mIndexError\u001b[0m                                Traceback (most recent call last)",
      "Cell \u001b[1;32mIn[25], line 1\u001b[0m\n\u001b[1;32m----> 1\u001b[0m \u001b[38;5;28mprint\u001b[39m(\u001b[43mnp_1element\u001b[49m\u001b[43m[\u001b[49m\u001b[43mnp_1array\u001b[49m\u001b[43m]\u001b[49m)\n",
      "\u001b[1;31mIndexError\u001b[0m: index 10 is out of bounds for axis 0 with size 10"
     ]
    }
   ],
   "source": [
    "print(np_1element[np_1array])"
   ]
  },
  {
   "cell_type": "code",
   "execution_count": 40,
   "id": "6b190141",
   "metadata": {},
   "outputs": [
    {
     "name": "stdout",
     "output_type": "stream",
     "text": [
      "['A' 'C' 'E' 'G' 'I']\n"
     ]
    }
   ],
   "source": [
    "import numpy as np\n",
    "np_array_2d = np.array([[1, \"A\"], [3, \"C\"], [2, \"B\"], [4, \"D\"],\n",
    "                        [5, \"E\"], [7, \"G\"], [6, \"F\"], [8, \"H\"],\n",
    "                        [10, \"J\"], [9, \"I\"]])\n",
    "np_1element = np_array_2d[0:10,0]                        #masking by selecting the first element of all variables\n",
    "np_1element_int = np_1element.astype(int)              #convert to int\n",
    "div = np_1element_int%2                                #div is the new variable to hold the remainder when divided by 2\n",
    "div >0                                              #True means odd\n",
    "\n",
    "print(np_array_2d[div > 0,1])\n"
   ]
  },
  {
   "cell_type": "code",
   "execution_count": 47,
   "id": "2332264a",
   "metadata": {},
   "outputs": [
    {
     "name": "stdout",
     "output_type": "stream",
     "text": [
      "['A' 'C' 'E' 'G' 'I']\n"
     ]
    }
   ],
   "source": [
    "print(np_array_2d[np_array_2d[:,0].astype(int)%2 >0,1])   \n",
    "#print(big umbrella list(smaller list whereby if the 1st element as an int is odd) specify 2nd element aka alphabet)"
   ]
  },
  {
   "cell_type": "code",
   "execution_count": null,
   "id": "45e73906",
   "metadata": {},
   "outputs": [],
   "source": []
  }
 ],
 "metadata": {
  "kernelspec": {
   "display_name": "Python 3 (ipykernel)",
   "language": "python",
   "name": "python3"
  },
  "language_info": {
   "codemirror_mode": {
    "name": "ipython",
    "version": 3
   },
   "file_extension": ".py",
   "mimetype": "text/x-python",
   "name": "python",
   "nbconvert_exporter": "python",
   "pygments_lexer": "ipython3",
   "version": "3.11.5"
  },
  "toc": {
   "base_numbering": 1,
   "nav_menu": {},
   "number_sections": true,
   "sideBar": true,
   "skip_h1_title": false,
   "title_cell": "Table of Contents",
   "title_sidebar": "Contents",
   "toc_cell": false,
   "toc_position": {},
   "toc_section_display": true,
   "toc_window_display": false
  },
  "vscode": {
   "interpreter": {
    "hash": "31f2aee4e71d21fbe5cf8b01ff0e069b9275f58929596ceb00d14d90e3e16cd6"
   }
  }
 },
 "nbformat": 4,
 "nbformat_minor": 5
}
