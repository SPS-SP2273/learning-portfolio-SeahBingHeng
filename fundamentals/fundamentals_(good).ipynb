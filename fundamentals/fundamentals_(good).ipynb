{
 "cells": [
  {
   "attachments": {},
   "cell_type": "markdown",
   "id": "123456",
   "metadata": {},
   "source": [
    "<div style=\"text-align:left;font-size:2em\"><span style=\"font-weight:bolder;font-size:1.25em\">SP2273 | Learning Portfolio</span><br><br><span style=\"font-weight:bold;color:darkred\">Fundamentals (Good)</span></div>"
   ]
  },
  {
   "attachments": {},
   "cell_type": "markdown",
   "id": "166fe598",
   "metadata": {},
   "source": [
    "# What to expect in this chapter"
   ]
  },
  {
   "attachments": {},
   "cell_type": "markdown",
   "id": "4e405531",
   "metadata": {},
   "source": [
    "# 1 There is more to if"
   ]
  },
  {
   "cell_type": "code",
   "execution_count": 2,
   "id": "1c96a8ee-c757-4ca5-b7a2-93e1a840a1a1",
   "metadata": {},
   "outputs": [
    {
     "name": "stdin",
     "output_type": "stream",
     "text": [
      "State ur NAME Robin\n"
     ]
    },
    {
     "name": "stdout",
     "output_type": "stream",
     "text": [
      "Hello Sidekick!\n"
     ]
    }
   ],
   "source": [
    "name = input('State ur NAME')\n",
    "\n",
    "if name == 'Batman':\n",
    "    print('Hello Batman!')\n",
    "elif name == 'Robin':\n",
    "    print('Hello Sidekick!')\n",
    "else:\n",
    "    print('Who u?')"
   ]
  },
  {
   "attachments": {},
   "cell_type": "markdown",
   "id": "e65bed8a",
   "metadata": {},
   "source": [
    "# 2 Asking questions"
   ]
  },
  {
   "cell_type": "code",
   "execution_count": 7,
   "id": "1b0a16a0-4409-4c47-996c-c73d8b716e07",
   "metadata": {},
   "outputs": [
    {
     "data": {
      "text/plain": [
       "True"
      ]
     },
     "execution_count": 7,
     "metadata": {},
     "output_type": "execute_result"
    }
   ],
   "source": [
    "fruits = ['apple', 'banana', 'pineapple', 'jackfruit']\n",
    "vegetables = ['celery', 'potato', 'broccoli', 'kale']\n",
    "\n",
    "'appleS' in fruits\n",
    "'tat' in 'potato'"
   ]
  },
  {
   "cell_type": "code",
   "execution_count": 12,
   "id": "df780e69-f95f-415a-abec-e3af48aabf11",
   "metadata": {},
   "outputs": [
    {
     "data": {
      "text/plain": [
       "True"
      ]
     },
     "execution_count": 12,
     "metadata": {},
     "output_type": "execute_result"
    }
   ],
   "source": [
    "'ab' < 'ac'   #1+2 less than 1+3"
   ]
  },
  {
   "attachments": {},
   "cell_type": "markdown",
   "id": "8cdac9c7",
   "metadata": {},
   "source": [
    "# 3 Remember"
   ]
  },
  {
   "cell_type": "code",
   "execution_count": 9,
   "id": "610203f8-36e8-4488-a1ae-fd390f2da675",
   "metadata": {},
   "outputs": [],
   "source": [
    "# not, in, and, or are some Python keywords that are useful in asking questions."
   ]
  },
  {
   "attachments": {},
   "cell_type": "markdown",
   "id": "3a9fd138",
   "metadata": {},
   "source": [
    "## 3.1 Asking Math questions"
   ]
  },
  {
   "cell_type": "code",
   "execution_count": 16,
   "id": "b1b7aeb6-1b5b-4cbe-bd0a-10fedff5cc52",
   "metadata": {},
   "outputs": [
    {
     "name": "stdout",
     "output_type": "stream",
     "text": [
      "10\n"
     ]
    }
   ],
   "source": [
    "X = 10\n",
    "if 8<X<12:\n",
    "    print(X)\n",
    "    "
   ]
  },
  {
   "attachments": {},
   "cell_type": "markdown",
   "id": "d25ac85a",
   "metadata": {},
   "source": [
    "# 4 Python stores information in different formats or types"
   ]
  },
  {
   "cell_type": "markdown",
   "id": "799d0e30-40c9-40b1-83fd-7465e9caab93",
   "metadata": {},
   "source": [
    "Got int str float and complex for numbers. Str is like English. Int is whole number. Float is decimals. Complex got real and imaginary"
   ]
  },
  {
   "attachments": {},
   "cell_type": "markdown",
   "id": "074434d9",
   "metadata": {},
   "source": [
    "# 5 Never compare floats directly"
   ]
  },
  {
   "cell_type": "code",
   "execution_count": 17,
   "id": "6855448d-09ac-4413-b8cf-28b42c4e6347",
   "metadata": {},
   "outputs": [
    {
     "data": {
      "text/plain": [
       "False"
      ]
     },
     "execution_count": 17,
     "metadata": {},
     "output_type": "execute_result"
    }
   ],
   "source": [
    "a = 0.1\n",
    "a3 = 0.3\n",
    "a * 3 == a3"
   ]
  },
  {
   "attachments": {},
   "cell_type": "markdown",
   "id": "be89efc0",
   "metadata": {},
   "source": [
    "## 5.1 The Problem"
   ]
  },
  {
   "cell_type": "code",
   "execution_count": 18,
   "id": "64efe357-2527-4927-93a2-c440f03f80da",
   "metadata": {},
   "outputs": [
    {
     "data": {
      "text/plain": [
       "'0.29999999999999999'"
      ]
     },
     "execution_count": 18,
     "metadata": {},
     "output_type": "execute_result"
    }
   ],
   "source": [
    "f'{0.3:.17f}'"
   ]
  },
  {
   "attachments": {},
   "cell_type": "markdown",
   "id": "53bb37d0",
   "metadata": {},
   "source": [
    "## 5.2 A solution"
   ]
  },
  {
   "cell_type": "code",
   "execution_count": 21,
   "id": "d3b7adbf-5c06-43b9-834c-60cc0bd51d0a",
   "metadata": {},
   "outputs": [
    {
     "data": {
      "text/plain": [
       "True"
      ]
     },
     "execution_count": 21,
     "metadata": {},
     "output_type": "execute_result"
    }
   ],
   "source": [
    "import numpy as np\n",
    "np.isclose(a * 3, a3)"
   ]
  },
  {
   "attachments": {},
   "cell_type": "markdown",
   "id": "3caf0ea4",
   "metadata": {},
   "source": [
    "# 6 Combining English and variables"
   ]
  },
  {
   "cell_type": "code",
   "execution_count": 22,
   "id": "3dfd2b7a-41f6-4118-8ff2-0ff5c33cc008",
   "metadata": {},
   "outputs": [
    {
     "name": "stdout",
     "output_type": "stream",
     "text": [
      "Hello Batman Notfan!\n"
     ]
    }
   ],
   "source": [
    "name = \"Batman\"\n",
    "print(f\"Hello {name} Notfan!\")"
   ]
  },
  {
   "cell_type": "code",
   "execution_count": 23,
   "id": "ec43ef4c-b174-4ba1-967a-f315531b5f4d",
   "metadata": {},
   "outputs": [
    {
     "name": "stdout",
     "output_type": "stream",
     "text": [
      "Hello batman!\n"
     ]
    }
   ],
   "source": [
    "name = \"Batman\"\n",
    "print(f\"Hello {name.lower()}!\")"
   ]
  },
  {
   "cell_type": "code",
   "execution_count": 25,
   "id": "d7d2ba72-7f26-420f-afc3-20a8071dd972",
   "metadata": {},
   "outputs": [
    {
     "name": "stdout",
     "output_type": "stream",
     "text": [
      "The value of 10 cubed is 1000!\n"
     ]
    }
   ],
   "source": [
    "x = 10\n",
    "print(f\"The value of {x} cubed is {x**3}!\")"
   ]
  },
  {
   "cell_type": "code",
   "execution_count": 26,
   "id": "c52d4b42-6d97-45ca-aa7d-48aa131ed2a8",
   "metadata": {},
   "outputs": [
    {
     "name": "stdout",
     "output_type": "stream",
     "text": [
      "Bruce Wayne is Batman.\n"
     ]
    }
   ],
   "source": [
    "text = 'Bruce Wayne is Batman.'\n",
    "print(f'{text}')"
   ]
  },
  {
   "cell_type": "code",
   "execution_count": 27,
   "id": "6f906c8a-0abc-4683-a514-811a4e71f7cd",
   "metadata": {},
   "outputs": [
    {
     "name": "stdout",
     "output_type": "stream",
     "text": [
      "                  Bruce Wayne is Batman.\n"
     ]
    }
   ],
   "source": [
    "text = 'Bruce Wayne is Batman.'\n",
    "print(f'{text:>40}')"
   ]
  },
  {
   "cell_type": "code",
   "execution_count": 29,
   "id": "d2ee8df4-b75e-4cb8-8ac2-adf3a8f41a80",
   "metadata": {},
   "outputs": [
    {
     "name": "stdout",
     "output_type": "stream",
     "text": [
      "Bruce Wayne is Batman.\n"
     ]
    }
   ],
   "source": [
    "text = 'Bruce Wayne is Batman.'\n",
    "print(f'{text:<10}')"
   ]
  },
  {
   "cell_type": "code",
   "execution_count": 30,
   "id": "55ea053e-207d-40f6-937e-4ba8211dbed7",
   "metadata": {},
   "outputs": [
    {
     "name": "stdout",
     "output_type": "stream",
     "text": [
      "         Bruce Wayne is Batman.         \n"
     ]
    }
   ],
   "source": [
    "text = 'Bruce Wayne is Batman.'\n",
    "print(f'{text:^40}')"
   ]
  },
  {
   "cell_type": "code",
   "execution_count": 31,
   "id": "257f3297-54b8-4400-9941-5e7db8bfe125",
   "metadata": {},
   "outputs": [
    {
     "name": "stdout",
     "output_type": "stream",
     "text": [
      "The cube of pi to 6 decimal places is 31.00627668\n"
     ]
    }
   ],
   "source": [
    "print(f'The cube of pi to 6 decimal places is {np.pi**3:.8f}')"
   ]
  },
  {
   "cell_type": "code",
   "execution_count": 32,
   "id": "cc080855-29b6-4379-b174-82e3faf3235f",
   "metadata": {},
   "outputs": [
    {
     "name": "stdout",
     "output_type": "stream",
     "text": [
      "The cube of pi to 6 decimal places is 3.100628e+01\n"
     ]
    }
   ],
   "source": [
    "print(f'The cube of pi to 6 decimal places is {np.pi**3:.6e}')"
   ]
  },
  {
   "attachments": {},
   "cell_type": "markdown",
   "id": "658b3331",
   "metadata": {},
   "source": [
    "## 6.1 Structure of f-strings"
   ]
  },
  {
   "cell_type": "markdown",
   "id": "a3eac413-26f6-4f98-81b5-5066906f25a6",
   "metadata": {},
   "source": [
    "In the form of {X:>0Y.ZW}\n",
    "\n",
    "<>^ is to shift the text\n",
    "\n",
    "Z is decimal place\n",
    "\n",
    "w is how many dp u want\n",
    "\n",
    "0 is to replace the spacing prior to the code eg see below"
   ]
  },
  {
   "cell_type": "code",
   "execution_count": 7,
   "id": "a44e51fe-5909-429b-b55a-9716cfc7e988",
   "metadata": {},
   "outputs": [
    {
     "name": "stdout",
     "output_type": "stream",
     "text": [
      "0000000000000000000000000hell0\n"
     ]
    }
   ],
   "source": [
    "text = \"hell0\"\n",
    "print(f'{text:>030}')      # A block of 30 characters;\n",
    "                          # aligned left"
   ]
  },
  {
   "attachments": {},
   "cell_type": "markdown",
   "id": "7bba785e",
   "metadata": {},
   "source": [
    "# 7 Escape sequences"
   ]
  },
  {
   "cell_type": "markdown",
   "id": "6654eaf4-dac2-4c57-aff6-e2cd46c8cf8d",
   "metadata": {},
   "source": [
    "Use \\ followed by either:\n",
    "' for single quote\n",
    "\\ for backslash\n",
    "n for new time \n",
    "t for tab\n",
    "\n",
    "\n",
    "\n",
    "\n"
   ]
  },
  {
   "cell_type": "code",
   "execution_count": 8,
   "id": "68c7bce0-cb5c-42ee-9121-e31db5561fcf",
   "metadata": {},
   "outputs": [
    {
     "name": "stdout",
     "output_type": "stream",
     "text": [
      "Line 1\n",
      "\tLine 2\n",
      "\t\t\n",
      "Line 3\n"
     ]
    }
   ],
   "source": [
    "print('Line 1\\n\\tLine 2\\n\\t\\t\\nLine 3')"
   ]
  },
  {
   "attachments": {},
   "cell_type": "markdown",
   "id": "4d2096e2",
   "metadata": {},
   "source": [
    "# 8 Computers read = from Right to Left!"
   ]
  },
  {
   "cell_type": "markdown",
   "id": "92eb8656-fed8-4ccb-8534-2a213c6093d4",
   "metadata": {},
   "source": [
    "Right to left. So this means that we have to type the changed variable on the right eg below"
   ]
  },
  {
   "cell_type": "code",
   "execution_count": 9,
   "id": "d2fb6d65-3b49-4de2-89c7-ddebd585054e",
   "metadata": {},
   "outputs": [],
   "source": [
    "x = 10\n",
    "\n",
    "a = x + 2                   #read as x+2 =a"
   ]
  },
  {
   "attachments": {},
   "cell_type": "markdown",
   "id": "405a2282",
   "metadata": {},
   "source": [
    "# 9 Shorter and Cleaner Code"
   ]
  },
  {
   "cell_type": "code",
   "execution_count": 11,
   "id": "90e7a4ce-7990-48f9-a261-572e97637d66",
   "metadata": {},
   "outputs": [
    {
     "name": "stdout",
     "output_type": "stream",
     "text": [
      "12\n"
     ]
    }
   ],
   "source": [
    "y = 10 \n",
    "y += 2\n",
    "\n",
    "print(y)"
   ]
  },
  {
   "attachments": {},
   "cell_type": "markdown",
   "id": "b24091e7",
   "metadata": {},
   "source": [
    "# 10 Python can be a prima-donna."
   ]
  },
  {
   "cell_type": "markdown",
   "id": "8bd36a6e-4b0e-4119-aa4a-a4e22d03a9fb",
   "metadata": {},
   "source": [
    "Needa debug the code!"
   ]
  },
  {
   "attachments": {},
   "cell_type": "markdown",
   "id": "7a6238f2",
   "metadata": {},
   "source": [
    "# 11 Best Practices for Scientific Computing"
   ]
  },
  {
   "cell_type": "markdown",
   "id": "af6a2feb-0921-4d4b-972e-8655e0e8a3cb",
   "metadata": {},
   "source": [
    "Make ur code work first then simplify"
   ]
  },
  {
   "attachments": {},
   "cell_type": "markdown",
   "id": "3cdbef86",
   "metadata": {},
   "source": [
    "# 12 Looking for help"
   ]
  },
  {
   "cell_type": "code",
   "execution_count": 12,
   "id": "33c7955e-25b1-482a-9b6d-8ff9e5f6fe60",
   "metadata": {},
   "outputs": [
    {
     "name": "stdout",
     "output_type": "stream",
     "text": [
      "Help on built-in function print in module builtins:\n",
      "\n",
      "print(*args, sep=' ', end='\\n', file=None, flush=False)\n",
      "    Prints the values to a stream, or to sys.stdout by default.\n",
      "    \n",
      "    sep\n",
      "      string inserted between values, default a space.\n",
      "    end\n",
      "      string appended after the last value, default a newline.\n",
      "    file\n",
      "      a file-like object (stream); defaults to the current sys.stdout.\n",
      "    flush\n",
      "      whether to forcibly flush the stream.\n",
      "\n"
     ]
    }
   ],
   "source": [
    "help(print)"
   ]
  },
  {
   "attachments": {},
   "cell_type": "markdown",
   "id": "de79b096",
   "metadata": {},
   "source": [
    "## References"
   ]
  },
  {
   "attachments": {},
   "cell_type": "markdown",
   "id": "0f7aca75",
   "metadata": {},
   "source": [
    "## Footnotes"
   ]
  }
 ],
 "metadata": {
  "kernelspec": {
   "display_name": "Python 3 (ipykernel)",
   "language": "python",
   "name": "python3"
  },
  "language_info": {
   "codemirror_mode": {
    "name": "ipython",
    "version": 3
   },
   "file_extension": ".py",
   "mimetype": "text/x-python",
   "name": "python",
   "nbconvert_exporter": "python",
   "pygments_lexer": "ipython3",
   "version": "3.11.5"
  },
  "toc": {
   "base_numbering": 1,
   "nav_menu": {},
   "number_sections": true,
   "sideBar": true,
   "skip_h1_title": false,
   "title_cell": "Table of Contents",
   "title_sidebar": "Contents",
   "toc_cell": false,
   "toc_position": {},
   "toc_section_display": true,
   "toc_window_display": false
  },
  "vscode": {
   "interpreter": {
    "hash": "31f2aee4e71d21fbe5cf8b01ff0e069b9275f58929596ceb00d14d90e3e16cd6"
   }
  }
 },
 "nbformat": 4,
 "nbformat_minor": 5
}
