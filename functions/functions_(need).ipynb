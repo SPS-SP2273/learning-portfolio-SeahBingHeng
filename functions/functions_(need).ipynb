{
 "cells": [
  {
   "attachments": {},
   "cell_type": "markdown",
   "id": "123456",
   "metadata": {},
   "source": [
    "<div style=\"text-align:left;font-size:2em\"><span style=\"font-weight:bolder;font-size:1.25em\">SP2273 | Learning Portfolio</span><br><br><span style=\"font-weight:bold;color:darkred\">Functions (Need)</span></div>"
   ]
  },
  {
   "attachments": {},
   "cell_type": "markdown",
   "id": "93766466",
   "metadata": {},
   "source": [
    "# What to expect in this chapter"
   ]
  },
  {
   "attachments": {},
   "cell_type": "markdown",
   "id": "f08c8ff6",
   "metadata": {},
   "source": [
    "# 1 User-defined functions"
   ]
  },
  {
   "cell_type": "code",
   "execution_count": 1,
   "id": "6bf013e3-c1d2-44dd-af2d-6b0452b146db",
   "metadata": {},
   "outputs": [],
   "source": [
    "def greeting(name):\n",
    "    if name == 'Batman':\n",
    "        return 'Hello Batman! So, nice to meet you!'\n",
    "    else:\n",
    "        return f'Hello {name}!'    #we can define a function ourselves"
   ]
  },
  {
   "cell_type": "code",
   "execution_count": 22,
   "id": "9fbc19a9-8b23-4a2f-8f59-260f95c729c3",
   "metadata": {},
   "outputs": [
    {
     "name": "stdout",
     "output_type": "stream",
     "text": [
      "print\n"
     ]
    }
   ],
   "source": [
    "def HelloWorld(print):\n",
    "    print(\"print\")\n",
    "    \n",
    "HelloWorld(print)"
   ]
  },
  {
   "cell_type": "code",
   "execution_count": 16,
   "id": "b35f4008-f5d9-40b7-9d9a-f6005d80c3f6",
   "metadata": {},
   "outputs": [
    {
     "name": "stdin",
     "output_type": "stream",
     "text": [
      "what do you wish to Print? Harlow\n"
     ]
    },
    {
     "name": "stdout",
     "output_type": "stream",
     "text": [
      "<bound method Kernel.raw_input of <ipykernel.ipkernel.IPythonKernel object at 0x000002278C29F810>>\n"
     ]
    }
   ],
   "source": [
    "def Print():\n",
    "    input('what do you wish to Print?')\n",
    "    print(input)\n",
    "Print()"
   ]
  },
  {
   "cell_type": "code",
   "execution_count": 8,
   "id": "56c5c1c2-69a0-4e7b-85d3-12d0506e3b8e",
   "metadata": {},
   "outputs": [
    {
     "name": "stdout",
     "output_type": "stream",
     "text": [
      "Hello Super Man!\n"
     ]
    }
   ],
   "source": [
    "greet=greeting(name='Super Man')\n",
    "print(greet)"
   ]
  },
  {
   "cell_type": "code",
   "execution_count": null,
   "id": "96253fa0-a524-491b-9912-1fc22b62bd98",
   "metadata": {},
   "outputs": [],
   "source": []
  },
  {
   "attachments": {},
   "cell_type": "markdown",
   "id": "12f333ba",
   "metadata": {},
   "source": [
    "## 1.1 Named Functions"
   ]
  },
  {
   "cell_type": "code",
   "execution_count": 9,
   "id": "c9c81727-c21a-4561-89c8-815182bc72a9",
   "metadata": {},
   "outputs": [],
   "source": [
    "def greeting(name):\n",
    "    if name == 'Batman':\n",
    "        return 'Hello Batman! So, nice to meet you!'\n",
    "    else:\n",
    "        return f'Hello {name}!'"
   ]
  },
  {
   "cell_type": "code",
   "execution_count": 10,
   "id": "f5e44387-9ffb-44cc-8b0b-c8ba909859c2",
   "metadata": {},
   "outputs": [
    {
     "data": {
      "text/plain": [
       "'Hello Super Man!'"
      ]
     },
     "execution_count": 10,
     "metadata": {},
     "output_type": "execute_result"
    }
   ],
   "source": [
    "greeting(\"Super Man\")"
   ]
  },
  {
   "attachments": {},
   "cell_type": "markdown",
   "id": "8811b8be",
   "metadata": {},
   "source": [
    "### Named functions that return"
   ]
  },
  {
   "cell_type": "code",
   "execution_count": 11,
   "id": "8188cab9",
   "metadata": {},
   "outputs": [
    {
     "name": "stdout",
     "output_type": "stream",
     "text": [
      "Hello Super Man!\n"
     ]
    }
   ],
   "source": [
    "print(greeting(name='Super Man'))\n",
    "# Your code here\n"
   ]
  },
  {
   "attachments": {},
   "cell_type": "markdown",
   "id": "2628337e",
   "metadata": {},
   "source": [
    "### Named functions that don’t return"
   ]
  },
  {
   "cell_type": "code",
   "execution_count": 13,
   "id": "8c4a043a-6f5d-48fe-9328-2d0b0539b3d6",
   "metadata": {},
   "outputs": [],
   "source": [
    "my_short_function = lambda name: f\"Hello {name}!\""
   ]
  },
  {
   "cell_type": "code",
   "execution_count": 15,
   "id": "d593ccf7",
   "metadata": {},
   "outputs": [
    {
     "data": {
      "text/plain": [
       "'Hello Super Man!'"
      ]
     },
     "execution_count": 15,
     "metadata": {},
     "output_type": "execute_result"
    }
   ],
   "source": [
    "my_short_function(name=\"Super Man\")      #input the variable name as Super Man\n",
    "# Your code here\n"
   ]
  },
  {
   "cell_type": "code",
   "execution_count": 16,
   "id": "9c4c5756-9eec-4629-838b-e3f60aafe094",
   "metadata": {},
   "outputs": [],
   "source": [
    "numbers=[[9, 0, -10],\n",
    "         [8, 1, -11],\n",
    "         [7, 2, -12],\n",
    "         [6, 3, -13],\n",
    "         [5, 4, -14],\n",
    "         [4, 5, -15],\n",
    "         [3, 6, -16],\n",
    "         [2, 7, -17],\n",
    "         [1, 8, -18],\n",
    "         [0, 9, -19]]"
   ]
  },
  {
   "attachments": {},
   "cell_type": "markdown",
   "id": "2d97154c",
   "metadata": {},
   "source": [
    "## 1.2 Anonymous functions"
   ]
  },
  {
   "cell_type": "code",
   "execution_count": 18,
   "id": "29031aa5-ecc1-40c5-b6da-989790c6fd10",
   "metadata": {},
   "outputs": [
    {
     "data": {
      "text/plain": [
       "[[9, 0, -10],\n",
       " [8, 1, -11],\n",
       " [7, 2, -12],\n",
       " [6, 3, -13],\n",
       " [5, 4, -14],\n",
       " [4, 5, -15],\n",
       " [3, 6, -16],\n",
       " [2, 7, -17],\n",
       " [1, 8, -18],\n",
       " [0, 9, -19]]"
      ]
     },
     "execution_count": 18,
     "metadata": {},
     "output_type": "execute_result"
    }
   ],
   "source": [
    "# Sort by comparing a custom key\n",
    "# that uses the 2nd element (index=1)\n",
    "sorted(numbers, key=lambda x: x[1])      #key = lambda is like the perimeter?\n",
    "                                          #x is the variable and [1] is the element posn."
   ]
  },
  {
   "cell_type": "code",
   "execution_count": 21,
   "id": "eeb608ca-60b0-4b87-a50e-405315040e89",
   "metadata": {},
   "outputs": [
    {
     "data": {
      "text/plain": [
       "[[9, 0, -10],\n",
       " [8, 1, -11],\n",
       " [7, 2, -12],\n",
       " [6, 3, -13],\n",
       " [5, 4, -14],\n",
       " [4, 5, -15],\n",
       " [3, 6, -16],\n",
       " [2, 7, -17],\n",
       " [1, 8, -18],\n",
       " [0, 9, -19]]"
      ]
     },
     "execution_count": 21,
     "metadata": {},
     "output_type": "execute_result"
    }
   ],
   "source": [
    "# Sort by comparing a custom key\n",
    "# that uses the 2nd element (index=1)\n",
    "sorted(numbers, key=lambda x: x[2:-1])                      #Should sort the 3rd row, but reverse cuz -1. Can change according to the techniques in storing data chpt "
   ]
  },
  {
   "attachments": {},
   "cell_type": "markdown",
   "id": "99f7459c",
   "metadata": {},
   "source": [
    "## 1.3 Optional arguments"
   ]
  },
  {
   "cell_type": "code",
   "execution_count": 22,
   "id": "770f7768-dd52-4780-9652-3114ad1b77b2",
   "metadata": {},
   "outputs": [],
   "source": [
    "def greeting(name='no one'):\n",
    "    if name == 'Batman':\n",
    "        return 'Hello Batman! So, nice to meet you!'\n",
    "    else:\n",
    "        return f'Hello {name}!'"
   ]
  },
  {
   "cell_type": "markdown",
   "id": "34b2c619-0479-4212-8de1-d47c19a3338c",
   "metadata": {},
   "source": [
    "Default value of \"no one\". Its like a \"if A, do this. If not A, do that\". More encompassing"
   ]
  },
  {
   "cell_type": "code",
   "execution_count": 24,
   "id": "0ffb9080-02d0-438a-81d2-68da7c69d627",
   "metadata": {},
   "outputs": [
    {
     "data": {
      "text/plain": [
       "'Hello Wut!'"
      ]
     },
     "execution_count": 24,
     "metadata": {},
     "output_type": "execute_result"
    }
   ],
   "source": [
    "greeting('Wut')"
   ]
  },
  {
   "cell_type": "code",
   "execution_count": 25,
   "id": "96fb6d18-6de6-4812-a009-a01181a7e0fa",
   "metadata": {},
   "outputs": [
    {
     "data": {
      "text/plain": [
       "'Hello no one!'"
      ]
     },
     "execution_count": 25,
     "metadata": {},
     "output_type": "execute_result"
    }
   ],
   "source": [
    "greeting()greeting()"
   ]
  },
  {
   "cell_type": "code",
   "execution_count": 27,
   "id": "361ffa5a-e530-4162-89df-17c0900260b1",
   "metadata": {},
   "outputs": [
    {
     "data": {
      "text/plain": [
       "'Hello Batman! So, nice to meet you!'"
      ]
     },
     "execution_count": 27,
     "metadata": {},
     "output_type": "execute_result"
    }
   ],
   "source": [
    "greeting('Batman')"
   ]
  },
  {
   "attachments": {},
   "cell_type": "markdown",
   "id": "0231c88b",
   "metadata": {},
   "source": [
    "## 1.4 The importance of functions?"
   ]
  },
  {
   "cell_type": "markdown",
   "id": "4b39275a-b10c-495e-80de-c68c611eb423",
   "metadata": {},
   "source": [
    "You can reuse your code. So if you have a defined function that does something that is required in many steps(eg you defined a code to convert Kelvin to Farenheit and you need to do multiple temperature conversion), it can save alot of time as the code is already there.\n",
    "\n",
    "Assuming that many regions in your code uses a specific code for a task(eg the temperature conversion aprt again), you can just amend the user defined code which is 1 block of code, rather than at every point that the code is used in.\n",
    "\n",
    "I guess the most important part is still the \"abstraction of details\". Often, you are tasked to do something and there is no existing code that can carry out part of or the entire function. Thus, given the freedom to create your own code helps to solve specific part of the problems that you are assigned to tackle. \n",
    "\n",
    "Some people misuse functions as they try to stuff many different arguments into 1 function. The overuse of functions may also clog your code. "
   ]
  },
  {
   "attachments": {},
   "cell_type": "markdown",
   "id": "d7cfd36d",
   "metadata": {},
   "source": [
    "### An argument for functions"
   ]
  },
  {
   "cell_type": "markdown",
   "id": "c5c938e6-c36c-4765-8803-5fa781110af1",
   "metadata": {},
   "source": [
    "It goes beyond the default code. Can customise new codes to ur need\n",
    "# Your code here\n"
   ]
  },
  {
   "attachments": {},
   "cell_type": "markdown",
   "id": "806017da",
   "metadata": {},
   "source": [
    "### A word of caution"
   ]
  },
  {
   "cell_type": "code",
   "execution_count": null,
   "id": "0811c2bd",
   "metadata": {},
   "outputs": [],
   "source": [
    "\n",
    "# Your code here\n"
   ]
  }
 ],
 "metadata": {
  "kernelspec": {
   "display_name": "Python 3 (ipykernel)",
   "language": "python",
   "name": "python3"
  },
  "language_info": {
   "codemirror_mode": {
    "name": "ipython",
    "version": 3
   },
   "file_extension": ".py",
   "mimetype": "text/x-python",
   "name": "python",
   "nbconvert_exporter": "python",
   "pygments_lexer": "ipython3",
   "version": "3.11.5"
  },
  "toc": {
   "base_numbering": 1,
   "nav_menu": {},
   "number_sections": true,
   "sideBar": true,
   "skip_h1_title": false,
   "title_cell": "Table of Contents",
   "title_sidebar": "Contents",
   "toc_cell": false,
   "toc_position": {},
   "toc_section_display": true,
   "toc_window_display": false
  },
  "vscode": {
   "interpreter": {
    "hash": "31f2aee4e71d21fbe5cf8b01ff0e069b9275f58929596ceb00d14d90e3e16cd6"
   }
  }
 },
 "nbformat": 4,
 "nbformat_minor": 5
}
