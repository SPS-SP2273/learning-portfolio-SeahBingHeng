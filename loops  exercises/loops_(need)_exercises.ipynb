{
 "cells": [
  {
   "cell_type": "markdown",
   "id": "123456",
   "metadata": {},
   "source": [
    "<div style=\"text-align:left;font-size:2em\"><span style=\"font-weight:bolder;font-size:1.25em\">SP2273 | Learning Portfolio</span><br><br><span style=\"font-weight:bold;color:darkred\">Loops (Need) Exercises</span></div>"
   ]
  },
  {
   "cell_type": "code",
   "execution_count": 17,
   "id": "90e66a93",
   "metadata": {},
   "outputs": [
    {
     "name": "stdout",
     "output_type": "stream",
     "text": [
      "[ 0  5 10 15 20 25 30 35 40 45 50]\n"
     ]
    }
   ],
   "source": [
    "temperatures_celsius = [0, 5, 10, 15, 20, 25, 30, 35, 40, 45, 50]\n",
    "import numpy as np\n",
    "temp_celsius = np.array(temperatures_celsius)\n",
    "temp_cel = temp_celsius.astype(int)\n",
    "print(temp_cel)                                             #ex 1"
   ]
  },
  {
   "cell_type": "code",
   "execution_count": 18,
   "id": "a1b63915",
   "metadata": {},
   "outputs": [
    {
     "name": "stdout",
     "output_type": "stream",
     "text": [
      "[ 32.  41.  50.  59.  68.  77.  86.  95. 104. 113. 122.]\n"
     ]
    }
   ],
   "source": [
    "for reading in temp_cel:\n",
    "    temp_faren = (temp_cel*9/5) +32\n",
    "print(temp_faren)                     #ex 1"
   ]
  },
  {
   "cell_type": "code",
   "execution_count": 45,
   "id": "c123bb5b",
   "metadata": {},
   "outputs": [
    {
     "name": "stdout",
     "output_type": "stream",
     "text": [
      "1\t2\t3\t4\t5\t\n",
      "\n",
      "2\t4\t6\t8\t10\t\n",
      "\n",
      "3\t6\t9\t12\t15\t\n",
      "\n",
      "4\t8\t12\t16\t20\t\n",
      "\n",
      "5\t10\t15\t20\t25\t\n",
      "\n"
     ]
    }
   ],
   "source": [
    "#ex 2 working\n",
    "for numbers in [1,2,3,4,5]:                                # i think it will read the 1st element \"1\" in list 1 before going to the 1st element in list 2.\n",
    "    for digits in [1,2,3,4,5]:                             # Then i think it will loop back to 1st element in list 1, which is \"1\" and read 2nd element in list 2 which is \"2\" and repeat until the 2nd list is exhausted\n",
    "        print(f'{numbers*digits}', end ='\\t')             #then it will move on to the 2nd element in list 1. \\t is to auto tab after each multipication while \\n is to make a new line after the 2nd list is exhausted\n",
    "    print('\\n')                                               #PLS FACTCHECK THIS TQ T.T"
   ]
  },
  {
   "cell_type": "code",
   "execution_count": 52,
   "id": "62207b47",
   "metadata": {},
   "outputs": [
    {
     "name": "stdout",
     "output_type": "stream",
     "text": [
      "1 :\t1\t2\t3\t4\t5\t\n",
      "\n",
      "2 :\t2\t4\t6\t8\t10\t\n",
      "\n",
      "3 :\t3\t6\t9\t12\t15\t\n",
      "\n",
      "4 :\t4\t8\t12\t16\t20\t\n",
      "\n",
      "5 :\t5\t10\t15\t20\t25\t\n",
      "\n"
     ]
    }
   ],
   "source": [
    "#ex 2 FINAL ANSWER\n",
    "for numbers in [1 , 2 , 3 , 4 , 5]:\n",
    "    print(f'{numbers} :', end = '\\t')            #tried using the auto tab function to align 1: to 1 2 3 4 5\n",
    "    for digits in [1,2,3,4,5]:                             \n",
    "        print(f'{numbers*digits}', end ='\\t')             \n",
    "    print('\\n')                  "
   ]
  },
  {
   "cell_type": "code",
   "execution_count": null,
   "id": "56bf32fd",
   "metadata": {},
   "outputs": [],
   "source": []
  }
 ],
 "metadata": {
  "kernelspec": {
   "display_name": "Python 3 (ipykernel)",
   "language": "python",
   "name": "python3"
  },
  "language_info": {
   "codemirror_mode": {
    "name": "ipython",
    "version": 3
   },
   "file_extension": ".py",
   "mimetype": "text/x-python",
   "name": "python",
   "nbconvert_exporter": "python",
   "pygments_lexer": "ipython3",
   "version": "3.11.5"
  },
  "toc": {
   "base_numbering": 1,
   "nav_menu": {},
   "number_sections": true,
   "sideBar": true,
   "skip_h1_title": false,
   "title_cell": "Table of Contents",
   "title_sidebar": "Contents",
   "toc_cell": false,
   "toc_position": {},
   "toc_section_display": true,
   "toc_window_display": false
  },
  "vscode": {
   "interpreter": {
    "hash": "31f2aee4e71d21fbe5cf8b01ff0e069b9275f58929596ceb00d14d90e3e16cd6"
   }
  }
 },
 "nbformat": 4,
 "nbformat_minor": 5
}
