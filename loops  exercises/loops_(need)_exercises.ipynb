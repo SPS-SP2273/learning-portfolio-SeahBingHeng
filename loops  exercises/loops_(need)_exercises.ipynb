{
 "cells": [
  {
   "cell_type": "markdown",
   "id": "123456",
   "metadata": {},
   "source": [
    "<div style=\"text-align:left;font-size:2em\"><span style=\"font-weight:bolder;font-size:1.25em\">SP2273 | Learning Portfolio</span><br><br><span style=\"font-weight:bold;color:darkred\">Loops (Need) Exercises</span></div>"
   ]
  },
  {
   "cell_type": "code",
   "execution_count": 23,
   "id": "90e66a93",
   "metadata": {},
   "outputs": [
    {
     "name": "stdout",
     "output_type": "stream",
     "text": [
      "0.0C is converted to 32.0F\n",
      "5.0C is converted to 41.0F\n",
      "10.0C is converted to 50.0F\n",
      "15.0C is converted to 59.0F\n",
      "20.0C is converted to 68.0F\n",
      "25.0C is converted to 77.0F\n",
      "30.0C is converted to 86.0F\n",
      "35.0C is converted to 95.0F\n",
      "40.0C is converted to 104.0F\n",
      "45.0C is converted to 113.0F\n",
      "50.0C is converted to 122.0F\n"
     ]
    }
   ],
   "source": [
    "temperatures_celsius = [0, 5, 10, 15, 20, 25, 30, 35, 40, 45, 50]\n",
    "for temp in temperatures_celsius:\n",
    "    int_temp = int(temp)                     #looping every element in temperatures_celsius and converting it to an int for math manipulation\n",
    "    temp_faren = (int_temp * 9/5) + 32\n",
    "    print(f'{int_temp:.1f}C is converted to {temp_faren:.1f}F')"
   ]
  },
  {
   "cell_type": "code",
   "execution_count": 45,
   "id": "c123bb5b",
   "metadata": {},
   "outputs": [
    {
     "name": "stdout",
     "output_type": "stream",
     "text": [
      "1\t2\t3\t4\t5\t\n",
      "\n",
      "2\t4\t6\t8\t10\t\n",
      "\n",
      "3\t6\t9\t12\t15\t\n",
      "\n",
      "4\t8\t12\t16\t20\t\n",
      "\n",
      "5\t10\t15\t20\t25\t\n",
      "\n"
     ]
    }
   ],
   "source": [
    "#ex 2 working\n",
    "for numbers in [1,2,3,4,5]:                                # i think it will read the 1st element \"1\" in list 1 before going to the 1st element in list 2.\n",
    "    for digits in [1,2,3,4,5]:                             # Then i think it will loop back to 1st element in list 1, which is \"1\" and read 2nd element in list 2 which is \"2\" and repeat until the 2nd list is exhausted\n",
    "        print(f'{numbers*digits}', end ='\\t')             #then it will move on to the 2nd element in list 1. \\t is to auto tab after each multipication while \\n is to make a new line after the 2nd list is exhausted\n",
    "    print('\\n')                                               #PLS FACTCHECK THIS TQ T.T"
   ]
  },
  {
   "cell_type": "code",
   "execution_count": 44,
   "id": "62207b47",
   "metadata": {},
   "outputs": [
    {
     "name": "stdout",
     "output_type": "stream",
     "text": [
      "1 :1\t2\t3\t4\t5\t\n",
      "2 :2\t4\t6\t8\t10\t\n",
      "3 :3\t6\t9\t12\t15\t\n",
      "4 :4\t8\t12\t16\t20\t\n",
      "5 :5\t10\t15\t20\t25\t\n"
     ]
    }
   ],
   "source": [
    "#ex 2 FINAL ANSWER\n",
    "for numbers in range(1,6):\n",
    "    print(f'{numbers} :', end = '')            #tried using the auto tab function to align 1: to 1 2 3 4 5\n",
    "    for digits in range(1,6):                             \n",
    "        print(f'{numbers*digits}', end ='\\t')             \n",
    "    print()                  "
   ]
  },
  {
   "cell_type": "code",
   "execution_count": null,
   "id": "03b98a7f-e17d-4df5-893a-ff6de01011b6",
   "metadata": {},
   "outputs": [],
   "source": []
  }
 ],
 "metadata": {
  "kernelspec": {
   "display_name": "Python 3 (ipykernel)",
   "language": "python",
   "name": "python3"
  },
  "language_info": {
   "codemirror_mode": {
    "name": "ipython",
    "version": 3
   },
   "file_extension": ".py",
   "mimetype": "text/x-python",
   "name": "python",
   "nbconvert_exporter": "python",
   "pygments_lexer": "ipython3",
   "version": "3.11.5"
  },
  "toc": {
   "base_numbering": 1,
   "nav_menu": {},
   "number_sections": true,
   "sideBar": true,
   "skip_h1_title": false,
   "title_cell": "Table of Contents",
   "title_sidebar": "Contents",
   "toc_cell": false,
   "toc_position": {},
   "toc_section_display": true,
   "toc_window_display": false
  },
  "vscode": {
   "interpreter": {
    "hash": "31f2aee4e71d21fbe5cf8b01ff0e069b9275f58929596ceb00d14d90e3e16cd6"
   }
  }
 },
 "nbformat": 4,
 "nbformat_minor": 5
}
