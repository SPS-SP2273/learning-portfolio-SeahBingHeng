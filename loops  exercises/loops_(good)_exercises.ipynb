{
 "cells": [
  {
   "cell_type": "markdown",
   "id": "123456",
   "metadata": {},
   "source": [
    "<div style=\"text-align:left;font-size:2em\"><span style=\"font-weight:bolder;font-size:1.25em\">SP2273 | Learning Portfolio</span><br><br><span style=\"font-weight:bold;color:darkred\">Loops (Good) Exercises</span></div>"
   ]
  },
  {
   "cell_type": "code",
   "execution_count": 2,
   "id": "ad2c4495-9a98-49e7-b228-57848b401fdf",
   "metadata": {},
   "outputs": [
    {
     "data": {
      "text/plain": [
       "[1, 9, 25, 49, 81]"
      ]
     },
     "execution_count": 2,
     "metadata": {},
     "output_type": "execute_result"
    }
   ],
   "source": [
    "#ex 1\n",
    "list=[]\n",
    "for x in range(0,10):\n",
    "    if x%2 == 1:\n",
    "        list.append(x**2)\n",
    "\n",
    "list"
   ]
  },
  {
   "cell_type": "code",
   "execution_count": 5,
   "id": "23d6f5d6-7dfb-4132-b70d-d48637831bab",
   "metadata": {},
   "outputs": [
    {
     "data": {
      "text/plain": [
       "[1, 9, 25, 49, 81]"
      ]
     },
     "execution_count": 5,
     "metadata": {},
     "output_type": "execute_result"
    }
   ],
   "source": [
    "#ex 2\n",
    "[number**2 for number in range(0,10) if number%2 == 1]"
   ]
  },
  {
   "cell_type": "code",
   "execution_count": 6,
   "id": "118a6857-826a-4cce-83fd-e596365cf26a",
   "metadata": {},
   "outputs": [
    {
     "name": "stdout",
     "output_type": "stream",
     "text": [
      "744 ns ± 29.8 ns per loop (mean ± std. dev. of 7 runs, 1,000,000 loops each)\n"
     ]
    }
   ],
   "source": [
    "%%timeit         #ex 3\n",
    "list=[]\n",
    "for x in range(0,10):\n",
    "    if x%2 == 0:\n",
    "        list.append(x**2)\n",
    "\n",
    "list"
   ]
  },
  {
   "cell_type": "code",
   "execution_count": 34,
   "id": "47cf31a3-5eee-47e3-9809-ec84d6d15b1f",
   "metadata": {},
   "outputs": [
    {
     "name": "stdout",
     "output_type": "stream",
     "text": [
      "817 ns ± 72.6 ns per loop (mean ± std. dev. of 7 runs, 1,000,000 loops each)\n"
     ]
    }
   ],
   "source": [
    "%%timeit\n",
    "[number for number in range(0,10) if number%2 == 1]"
   ]
  },
  {
   "cell_type": "markdown",
   "id": "f0cd1783-c44e-4b4f-ab1d-7124c2f380d6",
   "metadata": {},
   "source": [
    "The for loop(ex 1) is faster"
   ]
  },
  {
   "cell_type": "code",
   "execution_count": 19,
   "id": "eec9250b-7231-47eb-8a42-adb935813037",
   "metadata": {},
   "outputs": [
    {
     "name": "stdout",
     "output_type": "stream",
     "text": [
      " It will take 14 years\n"
     ]
    }
   ],
   "source": [
    "radioactive = 100               #no need to use int() as 100 is an integer. Normally when I use input(), the numbers are recognised as a string, then i will need to use int()\n",
    "years = 0\n",
    "\n",
    "while radioactive > 50:\n",
    "    radioactive *=  0.95\n",
    "    years += 1\n",
    "    if radioactive <= 50:              \n",
    "       print(f' It will take {years} years')"
   ]
  },
  {
   "cell_type": "code",
   "execution_count": 2,
   "id": "eee43a70-9063-4567-9bb8-4dabcb99813f",
   "metadata": {},
   "outputs": [],
   "source": [
    "co2_data = [\n",
    "    (2000, 369.55), (2001, 371.14), (2002, 373.28), \n",
    "    (2003, 375.80), (2004, 377.52), (2005, 379.80), \n",
    "    (2006, 381.90), (2007, 383.79), (2008, 385.60), \n",
    "    (2009, 387.43), (2010, 389.90), (2011, 391.65), \n",
    "    (2012, 393.85), (2013, 396.52), (2014, 398.65),\n",
    "    (2015, 400.83), (2016, 404.24), (2017, 406.55), \n",
    "    (2018, 408.52), (2019, 411.44), (2020, 414.24)\n",
    "]"
   ]
  },
  {
   "cell_type": "code",
   "execution_count": 10,
   "id": "1a5bf42a-81ea-4d55-a840-ac3fe05bb054",
   "metadata": {},
   "outputs": [
    {
     "ename": "SyntaxError",
     "evalue": "incomplete input (2855623995.py, line 10)",
     "output_type": "error",
     "traceback": [
      "\u001b[1;36m  Cell \u001b[1;32mIn[10], line 10\u001b[1;36m\u001b[0m\n\u001b[1;33m    \u001b[0m\n\u001b[1;37m    ^\u001b[0m\n\u001b[1;31mSyntaxError\u001b[0m\u001b[1;31m:\u001b[0m incomplete input\n"
     ]
    }
   ],
   "source": [
    "import numpy as np\n",
    "co2_data = np.array(co2_data)             #make array\n",
    "\n",
    "for year, co2_level in co2_data:          #splitting year and emission into 2 variables\n",
    "    previous_co2_level = co2_level[-1]          #I cant do this because when i print \"year\" and \"co2_level\", it runs through all the numbers, but they are not in a list\n",
    "    differences = co2_level - previous_co2_level\n",
    "\n",
    "    if differences > 3:\n",
    "    \n",
    "        "
   ]
  },
  {
   "cell_type": "code",
   "execution_count": 1,
   "id": "760498cc-8bd5-4341-a13d-a6a507847281",
   "metadata": {},
   "outputs": [
    {
     "name": "stdout",
     "output_type": "stream",
     "text": [
      " The 2016 and 2015 has a co2 difference of 3.4\n"
     ]
    }
   ],
   "source": [
    "co2_data = [\n",
    "    (2000, 369.55), (2001, 371.14), (2002, 373.28), \n",
    "    (2003, 375.80), (2004, 377.52), (2005, 379.80), \n",
    "    (2006, 381.90), (2007, 383.79), (2008, 385.60), \n",
    "    (2009, 387.43), (2010, 389.90), (2011, 391.65), \n",
    "    (2012, 393.85), (2013, 396.52), (2014, 398.65),\n",
    "    (2015, 400.83), (2016, 404.24), (2017, 406.55), \n",
    "    (2018, 408.52), (2019, 411.44), (2020, 414.24)\n",
    "]\n",
    "for data in co2_data:                                      # \"data\" takes the values of co2_data, which will be in the (x,y) form\n",
    "    if co2_data.index(data) == 0:\n",
    "        continue                                          #ignore the 0 element. Cuz I am going to minus [0] with [-1] if i dont ignore\n",
    "    year = data[0]                                          # data[0] gives the year value to the variable \"year\"\n",
    "    co2 = data[1]                                         # data[1] gives te co2 emission to the variable \"co2\"\n",
    "    previous_co2 = co2_data[co2_data.index(data)-1][1]   # co2_data.index(data)-1 is to get the index value of the 1st tuple aka (2000,369), HENCE this is a number and need []. So we add a co2_data infront so that we are finding the 1st tuple in co2_data\n",
    "    difference = round(co2 - previous_co2,1)                                     # cuz tuple will show (x,y) values, i use [1] to get the co2 values\n",
    "    if difference > 3:\n",
    "        print(f' The {year} and {year -1} has a co2 difference of {difference}')"
   ]
  },
  {
   "cell_type": "code",
   "execution_count": 1,
   "id": "dd7a04e3-0bb2-4948-85df-aaf8c79f9040",
   "metadata": {},
   "outputs": [
    {
     "name": "stdout",
     "output_type": "stream",
     "text": [
      " The 2016 and 2015 has a co2 difference of 3.410\n"
     ]
    }
   ],
   "source": [
    "#final answer\n",
    "co2_data = [\n",
    "    (2000, 369.55), (2001, 371.14), (2002, 373.28), \n",
    "    (2003, 375.80), (2004, 377.52), (2005, 379.80), \n",
    "    (2006, 381.90), (2007, 383.79), (2008, 385.60), \n",
    "    (2009, 387.43), (2010, 389.90), (2011, 391.65), \n",
    "    (2012, 393.85), (2013, 396.52), (2014, 398.65),\n",
    "    (2015, 400.83), (2016, 404.24), (2017, 406.55), \n",
    "    (2018, 408.52), (2019, 411.44), (2020, 414.24)\n",
    "]\n",
    "len(co2_data)\n",
    "for data in range(1, len(co2_data)):           #set range from 0 to end which is given by len                           \n",
    "    year,co2 = co2_data[data]                  #splitting the variables year and co2 to take the required values in data. co2_data[data] is to find the co2 and year value for each iteration of \"data\" \n",
    "    previous_year, previous_co2 = co2_data[data-1]      #co2_data[data] gets the (year,emission). the \"-1\" is to obtain the (year,emission) value from the previous year.\n",
    "    difference = co2 - previous_co2                      #co2_data[data-1] gives us the (year,emission) value which is stored respectively under previous_year and previous_co2              \n",
    "    if difference >= 3:                          #accounts for 3 and more difference in ppm\n",
    "        print(f' The {year} and {year -1} has a co2 difference of {difference:.3f}')\n"
   ]
  },
  {
   "cell_type": "code",
   "execution_count": null,
   "id": "aae42b21-aceb-4ed1-85e9-cea116aa1db7",
   "metadata": {},
   "outputs": [],
   "source": []
  }
 ],
 "metadata": {
  "kernelspec": {
   "display_name": "Python 3 (ipykernel)",
   "language": "python",
   "name": "python3"
  },
  "language_info": {
   "codemirror_mode": {
    "name": "ipython",
    "version": 3
   },
   "file_extension": ".py",
   "mimetype": "text/x-python",
   "name": "python",
   "nbconvert_exporter": "python",
   "pygments_lexer": "ipython3",
   "version": "3.11.5"
  },
  "toc": {
   "base_numbering": 1,
   "nav_menu": {},
   "number_sections": true,
   "sideBar": true,
   "skip_h1_title": false,
   "title_cell": "Table of Contents",
   "title_sidebar": "Contents",
   "toc_cell": false,
   "toc_position": {},
   "toc_section_display": true,
   "toc_window_display": false
  },
  "vscode": {
   "interpreter": {
    "hash": "31f2aee4e71d21fbe5cf8b01ff0e069b9275f58929596ceb00d14d90e3e16cd6"
   }
  }
 },
 "nbformat": 4,
 "nbformat_minor": 5
}
